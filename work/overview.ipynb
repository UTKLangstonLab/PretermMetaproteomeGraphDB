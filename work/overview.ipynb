{
 "cells": [
  {
   "cell_type": "code",
   "execution_count": null,
   "metadata": {},
   "outputs": [],
   "source": [
    "from IPython.core.display import display, HTML\n",
    "display(HTML(\"<style>.container { width:100% !important; }</style>\"))"
   ]
  },
  {
   "cell_type": "code",
   "execution_count": null,
   "metadata": {},
   "outputs": [],
   "source": [
    "%matplotlib inline"
   ]
  },
  {
   "cell_type": "code",
   "execution_count": null,
   "metadata": {},
   "outputs": [],
   "source": [
    "import numpy as np\n",
    "import matplotlib\n",
    "import matplotlib.pyplot as plt"
   ]
  },
  {
   "cell_type": "markdown",
   "metadata": {},
   "source": [
    "# Load modules\n",
    "\n",
    "   * [pandas](https://pandas.pydata.org/)\n",
    "   * [python-igraph](http://igraph.org/python/)\n",
    "   * [py2neo](http://py2neo.org/2.0/intro.html)\n",
    "   * [visJS2jupyter](https://ucsd-ccbb.github.io/visJS2jupyter/)"
   ]
  },
  {
   "cell_type": "code",
   "execution_count": null,
   "metadata": {},
   "outputs": [],
   "source": [
    "import pandas as pd\n",
    "import igraph as ig\n",
    "from py2neo import Graph, Node, Relationship\n",
    "import visJS2jupyter.visJS_module"
   ]
  },
  {
   "cell_type": "markdown",
   "metadata": {},
   "source": [
    "# The graph\n",
    "See http://localhost:7474/browser/ for the neo4j interface. \n",
    "\n",
    "The graph has the following structure:\n",
    "\n",
    "<p align=\"center\">\n",
    "    <span style=\"color:red\">(BABY)</span>\n",
    "    <span style=\"color:blue\">   –[SAMPLELINK]&rarr;   </span>\n",
    "    <span style=\"color:red\">(SAMPLE)</span>\n",
    "    <span style=\"color:blue\">   –[PROTEINLINK]&rarr;   </span>\n",
    "    <span style=\"color:red\">(PROTEIN)</span>\n",
    "    <span style=\"color:blue\">   –[FUNCTIONLINK]&rarr;   </span>\n",
    "    <span style=\"color:red\">(REACTION)</span>\n",
    "</p>\n",
    "\n",
    "and: \n",
    "\n",
    "<p align=\"center\">\n",
    "    <span style=\"color:red\"> (COMPOUND) </span>\n",
    "    <span style=\"color:blue\">   –[SUBSTRATE]&rarr;   </span>\n",
    "    <span style=\"color:red\">(REACTION)</span>\n",
    "    <span style=\"color:blue\">   –[PRODUCT]&rarr;   </span>\n",
    "    <span style=\"color:red\"> (COMPOUND) </span>\n",
    "</p>\n",
    "\n",
    "where red are nodes and blue are edges. \n",
    "\n",
    "---"
   ]
  },
  {
   "cell_type": "markdown",
   "metadata": {},
   "source": [
    "The attributes for each of the above objects are as follows: \n",
    "* **BABY**\n",
    "  * id: *string*, unique\n",
    "  * NAME: *string*, same as id\n",
    "  * NEC: *string*\n",
    "  * NEC_DIAGNOSIS_DOL: *int*\t\n",
    "  * BIRTH_AGE: *int*\t\n",
    "  * FEEDING: *string*\t\n",
    "  * DELIVERY: *string*\n",
    "  * BIRTH_WEIGHT: *flaot*\n",
    "  * INFECTION: *string*\n",
    "  * INFECTION_DIAGNOSIS_DOL: *list*\n",
    "  * SEX: *string*\n",
    "  * ANTIBIOTIC_TREATMENT: *list*\n",
    "\n",
    "\n",
    "* **SAMPLE**\n",
    "  * id: *string*, unique \\<\"BABY\"\\>.\\<\"DAY\"\\>.\\<\"SAMPLE\"\\>\n",
    "  * NAME: *string*, same as id\n",
    "  * DAY: *int*\n",
    "  * GESTATION_WEEK: *int*\n",
    "  * BABY: *int*\n",
    "  * NUM_REPS: *int*\n",
    "\n",
    "\n",
    "* **PROTEIN**\n",
    "  * id: *string*, unique\n",
    "  * NAME: *string* same as id\n",
    "  * CLUSTER: *string*\n",
    "  * GENUS: *string* \n",
    "  * SPECIES *string*\n",
    "  * TAXA: *string*\n",
    "  * KO: *list*\n",
    "  \n",
    "\n",
    "* **REACTION** \n",
    "  * id: *string*, unique, \n",
    "  * NAME: *string*\n",
    "  * SYNONYMS: *list*\n",
    "  * EC_NUMBERS: *list*\n",
    "  * EQUATION: *string*\n",
    "  * NAME_EQUATION: *string*\n",
    "  * PATHWAY: *list*\n",
    "  * DIRECTION_FROM_METACYC *string\n",
    "\n",
    "\n",
    "* **COMPOUND**\n",
    "  * id: *string*, unique\n",
    "  * NAME: *string*\n",
    "  * SYNONYMS: *list*\n",
    "  * FORMULA: *string*\n",
    "  * PATHWAY: *list*\n",
    "  * BRITE_HIERARCHY: *list*\n",
    "\n",
    "\n",
    "* –[**SAMPLELINK**]&rarr;\n",
    "\n",
    "\n",
    "\n",
    "* –[**PROTEINLINK**]&rarr;\n",
    "  * Q_VALUE: *float*\n",
    "  * NSAF: *float*\n",
    "\n",
    "\n",
    "* –[**FUNCTIONLINKE*]&rarr;\n",
    "  * KO: *string*\n",
    "\n",
    "\n",
    "\n",
    "* –[**PRODUCT**]&rarr;\n",
    "  * STOICHIOMETRY: *string*\n",
    "\n",
    "\n",
    "* –[**SUBSTRATE**]&rarr;\n",
    "  * STOICHIOMETRY: *string*"
   ]
  },
  {
   "cell_type": "markdown",
   "metadata": {},
   "source": [
    "---\n",
    "# Query graph\n",
    "\n",
    "The graph can be queried using CYPHER in two ways:\n",
    "\n",
    "## 1. py2neo\n",
    "Write CYPHER statements and recive a cursor back\n",
    "\n",
    "## 2. GUI\n",
    "Use the CYPHER input at the database browser GUI.  \n"
   ]
  },
  {
   "cell_type": "markdown",
   "metadata": {},
   "source": [
    "---\n",
    "## REMEMBER: \n",
    "\n",
    "* `n.id`  != `ID(n)`\n",
    "\n",
    "  `n.id` is the unique ID given to a compound, reaction, etc by us. \n",
    "  \n",
    "  `ID(n)` is a unique integer ID given to each object in the neo4j graph by neo4j. \n",
    "\n",
    "\n",
    "* A `cursor` created by a `graph.run` command is \n",
    "\n",
    "   >*\"forward-only\", meaning that navigation starts before the first record and may proceed only in a forward direction.*"
   ]
  },
  {
   "cell_type": "markdown",
   "metadata": {},
   "source": [
    "# Access the graph through py2neo"
   ]
  },
  {
   "cell_type": "code",
   "execution_count": null,
   "metadata": {},
   "outputs": [],
   "source": [
    "graph = Graph(host=\"neo4j\")"
   ]
  },
  {
   "cell_type": "markdown",
   "metadata": {},
   "source": [
    "# Example CYPHER queries\n",
    "\n",
    "These queries can be pasted in to the neo4j interface, or run through py2neo"
   ]
  },
  {
   "cell_type": "code",
   "execution_count": null,
   "metadata": {},
   "outputs": [],
   "source": [
    "# Reactions with acetate (C00033) as substrate\n",
    "query = '''MATCH (c:COMPOUND)-[:SUBSTRATE]->(r:REACTION) \n",
    "           WHERE c.id = 'C00033' \n",
    "           RETURN r.id AS reaction, c.id AS compound\n",
    "           LIMIT 5'''\n",
    "print(query)"
   ]
  },
  {
   "cell_type": "code",
   "execution_count": null,
   "metadata": {},
   "outputs": [],
   "source": [
    "# find reactions linked to certain pathways\n",
    "pathway_list = ['rn00710', 'rn00791', 'rn00770']\n",
    "query = '''MATCH (r:REACTION) \n",
    "           WHERE any(x IN r.PATHWAY WHERE x IN %s) \n",
    "           RETURN r \n",
    "           LIMIT 5'''%pathway_list\n",
    "print(query)"
   ]
  },
  {
   "cell_type": "markdown",
   "metadata": {},
   "source": [
    "## Run by submitting a query to py2neo"
   ]
  },
  {
   "cell_type": "code",
   "execution_count": null,
   "metadata": {},
   "outputs": [],
   "source": [
    "# Reactions and Proteins linked to acetate (C00033)\n",
    "query = '''MATCH (c:COMPOUND)-[]-(r:REACTION)<-[:FUNCTIONLINK]-(p:PROTEIN) \n",
    "           WHERE c.id = 'C00033' \n",
    "           RETURN r.id AS reaction, p.id as protein\n",
    "           LIMIT 5'''\n",
    "print(query)"
   ]
  },
  {
   "cell_type": "code",
   "execution_count": null,
   "metadata": {},
   "outputs": [],
   "source": [
    "cursor = graph.run(query)\n",
    "for record in cursor:\n",
    "    print(record['reaction'], '\\t', record['protein'])"
   ]
  },
  {
   "cell_type": "markdown",
   "metadata": {},
   "source": [
    "# Use baby metadata to select samples"
   ]
  },
  {
   "cell_type": "markdown",
   "metadata": {},
   "source": [
    "## Samples from NEC babies\n"
   ]
  },
  {
   "cell_type": "code",
   "execution_count": null,
   "metadata": {},
   "outputs": [],
   "source": [
    "query = '''MATCH (b:BABY)-[:SAMPLELINK]->(s:SAMPLE)\n",
    "           WHERE b.NEC = 'Yes' \n",
    "           RETURN s.id as sample\n",
    "           LIMIT 5'''\n",
    "print(query)"
   ]
  },
  {
   "cell_type": "code",
   "execution_count": null,
   "metadata": {},
   "outputs": [],
   "source": [
    "cursor = graph.run(query)\n",
    "for record in cursor:\n",
    "    print(record['sample'])"
   ]
  },
  {
   "cell_type": "markdown",
   "metadata": {},
   "source": [
    "## Baby 70,  Day 20"
   ]
  },
  {
   "cell_type": "code",
   "execution_count": null,
   "metadata": {},
   "outputs": [],
   "source": [
    "query = '''MATCH (b:BABY)-[:SAMPLELINK]->(s:SAMPLE)\n",
    "           WHERE b.id = '70' \n",
    "           AND s.DAY = '20'\n",
    "           RETURN s.id as sample\n",
    "           LIMIT 5'''\n",
    "print(query)"
   ]
  },
  {
   "cell_type": "code",
   "execution_count": null,
   "metadata": {},
   "outputs": [],
   "source": [
    "cursor = graph.run(query)\n",
    "for record in cursor:\n",
    "    print(record['sample'])"
   ]
  },
  {
   "cell_type": "markdown",
   "metadata": {},
   "source": [
    "## All reactions for all samples on day 20"
   ]
  },
  {
   "cell_type": "code",
   "execution_count": null,
   "metadata": {},
   "outputs": [],
   "source": [
    "query = '''MATCH (s:SAMPLE)\n",
    "           WHERE s.DAY = '20'\n",
    "           RETURN s.id as sample\n",
    "           LIMIT 5'''\n",
    "print(query)"
   ]
  },
  {
   "cell_type": "code",
   "execution_count": null,
   "metadata": {},
   "outputs": [],
   "source": [
    "cursor = graph.run(query)\n",
    "sample_list = [record[\"sample\"] for record in cursor]\n",
    "sample_list"
   ]
  },
  {
   "cell_type": "markdown",
   "metadata": {},
   "source": [
    "In the following queries, using `{x}` in the query allows py2neo to replace it\n",
    "with some arguement, in this case we will replace it with the above list of sample ids. \n",
    "\n",
    "Note the line `LIMIT 10`. This is to run example code quickly, don't include it in a real call. "
   ]
  },
  {
   "cell_type": "code",
   "execution_count": null,
   "metadata": {},
   "outputs": [],
   "source": [
    "# query for finding all protein/reactions related to these samples\n",
    "query = '''MATCH (s:SAMPLE)-[:PROTEINLINK]->(p:PROTEIN)-[:FUNCTIONLINK]->(r:REACTION)\n",
    "           WHERE any(z IN s.id WHERE z IN {x}) \n",
    "           RETURN p.id as protein, r.id as reaction\n",
    "           LIMIT 10 '''\n",
    "print(query)"
   ]
  },
  {
   "cell_type": "code",
   "execution_count": null,
   "metadata": {
    "scrolled": true
   },
   "outputs": [],
   "source": [
    "cursor = graph.run(query, x=sample_list)\n",
    "for p in cursor:\n",
    "    print(p['protein'], p[\"reaction\"])"
   ]
  },
  {
   "cell_type": "code",
   "execution_count": null,
   "metadata": {},
   "outputs": [],
   "source": []
  },
  {
   "cell_type": "code",
   "execution_count": null,
   "metadata": {
    "scrolled": true
   },
   "outputs": [],
   "source": [
    "# Now find links to reactions producing acetate\n",
    "query = '''MATCH (s:SAMPLE)-[:PROTEINLINK]->(p:PROTEIN)-[f:FUNCTIONLINK]->(r:REACTION)-[:PRODUCT]->(c:COMPOUND)\n",
    "           WHERE c.id = 'C00033' \n",
    "           AND any(z IN s.id WHERE z IN {x})\n",
    "           RETURN r.id AS reaction, p.id as protein, f.KO AS KO\n",
    "           LIMIT 25'''\n",
    "print(query)"
   ]
  },
  {
   "cell_type": "code",
   "execution_count": null,
   "metadata": {
    "scrolled": false
   },
   "outputs": [],
   "source": [
    "# duplicates are due to multiple proteins linking to the same reactions\n",
    "cursor = graph.run(query, x=sample_list)\n",
    "for record in cursor:\n",
    "    print(record['reaction'], record['protein'], record['KO'])"
   ]
  },
  {
   "cell_type": "code",
   "execution_count": null,
   "metadata": {},
   "outputs": [],
   "source": [
    "# dump the cursor this time into a dataframe\n",
    "# and remove duplicates\n",
    "cursor = graph.run(query, x=sample_list)\n",
    "df = pd.DataFrame(cursor.data()).drop_duplicates()\n",
    "df.head()"
   ]
  },
  {
   "cell_type": "markdown",
   "metadata": {},
   "source": [
    "# Turn a query result into an igraph graph"
   ]
  },
  {
   "cell_type": "code",
   "execution_count": null,
   "metadata": {},
   "outputs": [],
   "source": [
    "g = ig.Graph.TupleList(df.values, directed=False)"
   ]
  },
  {
   "cell_type": "code",
   "execution_count": null,
   "metadata": {},
   "outputs": [],
   "source": [
    "g.vcount(), g.ecount()"
   ]
  },
  {
   "cell_type": "code",
   "execution_count": null,
   "metadata": {},
   "outputs": [],
   "source": [
    "layout = g.layout(\"kk\")"
   ]
  },
  {
   "cell_type": "markdown",
   "metadata": {},
   "source": [
    "# Pull graphs based on sample list"
   ]
  },
  {
   "cell_type": "markdown",
   "metadata": {},
   "source": [
    "Given a list of samples, and list of compounds, pull out graph of reactions to compounds. "
   ]
  },
  {
   "cell_type": "code",
   "execution_count": null,
   "metadata": {},
   "outputs": [],
   "source": [
    "def pull_graph(sample_list, compounds_list):\n",
    "    \n",
    "    query = '''MATCH (s:SAMPLE)-[:PROTEINLINK]->(:PROTEIN)-[:FUNCTIONLINK]->(r:REACTION)-[]-(c:COMPOUND)\n",
    "               WHERE s.id in {x}\n",
    "               AND c.id in {y}\n",
    "               RETURN r.id AS reaction'''\n",
    "    \n",
    "    cursor = graph.run(query, x=sample_list, y=compounds_list)\n",
    "    reactions = list(set([record[\"reaction\"] for record in cursor]))    \n",
    "    \n",
    "    # one hop from the reactions  \n",
    "    query = '''MATCH (c:COMPOUND)-[]-(r:REACTION)\n",
    "               WHERE r.id IN {x}\n",
    "               RETURN r.id AS reaction, c.id as compound'''\n",
    "    \n",
    "    cursor = graph.run(query, x=reactions)\n",
    "    df_hop_from_reaction = pd.DataFrame(cursor.data())\n",
    "       \n",
    "    g = ig.Graph.TupleList(df_hop_from_reaction.values, directed=False)\n",
    "    \n",
    "    # Get the \"type\" and \"display_name\" of each of the nodes\n",
    "    all_node_ids = [v['name'] for v in g.vs()]\n",
    "\n",
    "    query = '''MATCH (n)\n",
    "               WHERE n.id IN {x}\n",
    "               RETURN n.id AS id, LABELS(n)[0] AS type, n.NAME as display_name '''\n",
    "\n",
    "    cursor = graph.run(query, x=all_node_ids)\n",
    "    vertex_attributes = pd.DataFrame(cursor.data()).set_index('id')\n",
    "    \n",
    "    for v in g.vs:\n",
    "        v['type'] = vertex_attributes.loc[v['name']]['type']\n",
    "        v['display_name'] = vertex_attributes.loc[v['name']]['display_name']\n",
    "        \n",
    "    return g"
   ]
  },
  {
   "cell_type": "code",
   "execution_count": null,
   "metadata": {},
   "outputs": [],
   "source": [
    "compounds_list = pd.read_excel(\"../data/CompoundsOfInterest.xlsx\", header=None, sheet_name=0)\n",
    "compounds_list = [x.strip() for x in compounds_list[0].values]"
   ]
  },
  {
   "cell_type": "code",
   "execution_count": null,
   "metadata": {},
   "outputs": [],
   "source": [
    "print(sample_list)\n",
    "print(compounds_list)"
   ]
  },
  {
   "cell_type": "code",
   "execution_count": null,
   "metadata": {},
   "outputs": [],
   "source": [
    "g = pull_graph(sample_list, compounds_list)"
   ]
  },
  {
   "cell_type": "code",
   "execution_count": null,
   "metadata": {},
   "outputs": [],
   "source": [
    "g = g.simplify()"
   ]
  },
  {
   "cell_type": "code",
   "execution_count": null,
   "metadata": {},
   "outputs": [],
   "source": [
    "g.vcount(), g.ecount()"
   ]
  },
  {
   "cell_type": "markdown",
   "metadata": {},
   "source": [
    "# Visualize a graph using visJS2jupyter"
   ]
  },
  {
   "cell_type": "markdown",
   "metadata": {},
   "source": [
    "From https://github.com/ucsd-ccbb/visJS2jupyter/issues/21 and https://github.com/ucsd-ccbb/visJS2jupyter/issues/22, a work around is needed to plot inline. \n",
    "Instead open the html file externally. "
   ]
  },
  {
   "cell_type": "code",
   "execution_count": null,
   "metadata": {},
   "outputs": [],
   "source": [
    "def prepare_plot_igraph(g, \n",
    "                        layout='fruchterman_reingold', \n",
    "                        positions=None, \n",
    "                        scale=100, \n",
    "                        edge_cmap=plt.cm.tab20c, \n",
    "                        vertex_cmap=plt.cm.tab20):\n",
    "\n",
    "    # calculate layout if needed\n",
    "    if positions is None: \n",
    "        positions=g.layout(layout)\n",
    " \n",
    "    # color vertices\n",
    "    d_vertex = {}\n",
    "    uniq_vertex_att = set(g.vs['type'])\n",
    "    vertex_cmap_values = vertex_cmap(np.arange(len(uniq_vertex_att))/len(uniq_vertex_att), alpha=1)\n",
    "    for att, row in zip(uniq_vertex_att, vertex_cmap_values):\n",
    "        d_vertex[att] = matplotlib.colors.rgb2hex(row)\n",
    "      \n",
    "    nodes_dict = [{\"id\":n.attributes()['name'],\n",
    "                   \"name\":n.attributes()['display_name'],\n",
    "                   \"x\":positions[n.index][0]*scale,\n",
    "                   \"y\":positions[n.index][1]*scale,  \n",
    "                   \"degree\":g.degree(n), \n",
    "                   \"color\":d_vertex[n.attributes()[\"type\"]]\n",
    "                  } for n in g.vs()]\n",
    "   \n",
    "    edges_dict = [{\"source\":n.source, \n",
    "                   \"target\":n.target\n",
    "                  } for n in g.es()]\n",
    "\n",
    "    return nodes_dict, edges_dict"
   ]
  },
  {
   "cell_type": "code",
   "execution_count": null,
   "metadata": {},
   "outputs": [],
   "source": [
    "nodes_dict, edges_dict = prepare_plot_igraph(g, scale=10)"
   ]
  },
  {
   "cell_type": "code",
   "execution_count": null,
   "metadata": {
    "scrolled": false
   },
   "outputs": [],
   "source": [
    "# plot network\n",
    "html = visJS2jupyter.visJS_module.visjs_network(nodes_dict,\n",
    "                                         edges_dict, \n",
    "                                         node_size_multiplier=30,\n",
    "                                         node_size_field='degree',\n",
    "                                         edge_label_field='type',\n",
    "                                         node_label_field='name',\n",
    "                                         edge_width=5, \n",
    "                                         edge_arrow_to=False,\n",
    "                                         edge_color_highlight='#8A324E',\n",
    "                                         edge_color_hover='red',\n",
    "                                         graph_id=0).data"
   ]
  },
  {
   "cell_type": "code",
   "execution_count": null,
   "metadata": {},
   "outputs": [],
   "source": [
    "with open(\"example_graph.html\", \"w\") as out:\n",
    "    out.write(html)"
   ]
  },
  {
   "cell_type": "code",
   "execution_count": null,
   "metadata": {},
   "outputs": [],
   "source": []
  }
 ],
 "metadata": {
  "kernelspec": {
   "display_name": "Python 3",
   "language": "python",
   "name": "python3"
  },
  "language_info": {
   "codemirror_mode": {
    "name": "ipython",
    "version": 3
   },
   "file_extension": ".py",
   "mimetype": "text/x-python",
   "name": "python",
   "nbconvert_exporter": "python",
   "pygments_lexer": "ipython3",
   "version": "3.7.3"
  }
 },
 "nbformat": 4,
 "nbformat_minor": 2
}
