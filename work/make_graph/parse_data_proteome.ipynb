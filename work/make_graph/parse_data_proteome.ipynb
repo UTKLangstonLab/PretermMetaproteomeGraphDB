{
 "cells": [
  {
   "cell_type": "code",
   "execution_count": 1,
   "metadata": {},
   "outputs": [
    {
     "data": {
      "text/html": [
       "<style>.container { width:100% !important; }</style>"
      ],
      "text/plain": [
       "<IPython.core.display.HTML object>"
      ]
     },
     "metadata": {},
     "output_type": "display_data"
    }
   ],
   "source": [
    "from IPython.core.display import display, HTML\n",
    "display(HTML(\"<style>.container { width:100% !important; }</style>\"))"
   ]
  },
  {
   "cell_type": "markdown",
   "metadata": {},
   "source": [
    "# Parse proteome data\n",
    "\n",
    "From raw data files. \n",
    "\n",
    "Need to run the following first:\n",
    "\n",
    "`wget http://rest.kegg.jp/link/rn/ko -O \"./data/KEGG/ko-to-rn-api.txt\"`\n",
    "\n",
    "`wget http://rest.kegg.jp/link/ec/ko -O \"./data/KEGG/ko-to-ec-api.txt\"`\n",
    "\n",
    "`wget http://rest.kegg.jp/link/rn/ec -O \"./data/KEGG/ec-to-ko-api.txt\"`"
   ]
  },
  {
   "cell_type": "markdown",
   "metadata": {},
   "source": [
    "## Load modules"
   ]
  },
  {
   "cell_type": "code",
   "execution_count": 2,
   "metadata": {},
   "outputs": [],
   "source": [
    "import re\n",
    "import pandas as pd\n",
    "import numpy as np\n",
    "import matplotlib as plot\n",
    "import seaborn as sns\n",
    "import os\n",
    "import copy"
   ]
  },
  {
   "cell_type": "code",
   "execution_count": 3,
   "metadata": {},
   "outputs": [],
   "source": [
    "from itertools import cycle\n",
    "from collections import defaultdict"
   ]
  },
  {
   "cell_type": "markdown",
   "metadata": {},
   "source": [
    "## File paths"
   ]
  },
  {
   "cell_type": "code",
   "execution_count": 4,
   "metadata": {},
   "outputs": [
    {
     "name": "stdout",
     "output_type": "stream",
     "text": [
      "/home/jovyan/work/make_graph\r\n"
     ]
    }
   ],
   "source": [
    "!pwd -P"
   ]
  },
  {
   "cell_type": "code",
   "execution_count": 5,
   "metadata": {},
   "outputs": [],
   "source": [
    "# In\n",
    "percolator_folder    = '/home/jovyan/data/drive/UpdateSearches/CruxOutput/'\n",
    "sample_metadata_file = '/home/jovyan/data/drive/UpdatedMetaData.txt'\n",
    "\n",
    "cluster_file            = \"/home/jovyan/data/drive/Annotations/AccessionsClusteredAt100ID.tab\"\n",
    "taxa_file               = \"/home/jovyan/data/drive/Annotations/scaffold2bin.tsv\"\n",
    "\n",
    "bact_eggnogg_file_path  = \"/home/jovyan/data/drive/Annotations/DiamondPreterm.emapper.annotations\"\n",
    "human_eggnogg_file_path = \"/home/jovyan/data/drive/Annotations/uniprot-proteome_UP000005640_Cluster100.emapper.annotations\""
   ]
  },
  {
   "cell_type": "code",
   "execution_count": 6,
   "metadata": {},
   "outputs": [],
   "source": [
    "# KEGG translators\n",
    "ko_rn = \"/home/jovyan/data/KEGG/ko-to-rn-api.txt\"\n",
    "ko_ec = \"/home/jovyan/data/KEGG/ko-to-ec-api.txt\"\n",
    "ec_rn = \"/home/jovyan/data/KEGG/ec-to-ko-api.txt\""
   ]
  },
  {
   "cell_type": "code",
   "execution_count": 7,
   "metadata": {},
   "outputs": [],
   "source": [
    "# Out\n",
    "baby_entities_file = '/home/jovyan/data/import/baby_entities.tsv'\n",
    "sample_entities_file = '/home/jovyan/data/import/sample_entities.tsv'\n",
    "protein_entities_file = '/home/jovyan/data/import/protein_entities.tsv'\n",
    "\n",
    "replicates_protein_sample_file_name = '/home/jovyan/data/import/protein_replicate_sample_relationship.tsv'\n",
    "aggregated_protein_sample_file_name = '/home/jovyan/data/import/protein_aggregated_sample_relationship.tsv'\n",
    "\n",
    "baby_sample_file_name = '/home/jovyan/data/import/baby_sample_relationship.tsv'\n",
    "protein_reaction_file_name = '/home/jovyan/data/import/protein_reaction_relationship.tsv'"
   ]
  },
  {
   "cell_type": "code",
   "execution_count": 8,
   "metadata": {},
   "outputs": [],
   "source": [
    "def list_to_string(x):\n",
    "    return \",\".join([str(i) for i in x])"
   ]
  },
  {
   "cell_type": "markdown",
   "metadata": {},
   "source": [
    "## Babies"
   ]
  },
  {
   "cell_type": "code",
   "execution_count": 9,
   "metadata": {},
   "outputs": [],
   "source": [
    "def get_first(x):\n",
    "    return x.values[0]\n",
    "    \n",
    "def make_list(x):\n",
    "    r = []\n",
    "    for l in x.values:\n",
    "        if not pd.isnull(l):\n",
    "            r += [\"-\".join([x.strip() for x in l.split(\",\")])]\n",
    "    \n",
    "    return \"//\".join(r)\n",
    "\n",
    "baby_data = pd.read_csv(sample_metadata_file, sep='\\t', usecols=['Baby',\n",
    "       'Nec', 'NecDiagnosis (DOL)', 'BirthAge', 'Feeding', 'Delivery', 'birth weight  (g)', 'Infection',\n",
    "       'InfectionDiagnosis (DOL)', 'sex', 'AntibioticTreament'], na_values=[\"No Info\", 'n/a'])\n",
    "baby_data.drop_duplicates(inplace=True)\n",
    "    \n",
    "baby_data = baby_data.groupby(\"Baby\").aggregate({'Nec':get_first, \n",
    "                                             'NecDiagnosis (DOL)':get_first, \n",
    "                                             'BirthAge':get_first, \n",
    "                                             'Feeding':get_first, \n",
    "                                             'Delivery':get_first, \n",
    "                                             'birth weight  (g)':get_first, \n",
    "                                             'Infection':get_first,\n",
    "                                             'InfectionDiagnosis (DOL)':make_list, \n",
    "                                             'sex':get_first, \n",
    "                                             'AntibioticTreament':make_list})"
   ]
  },
  {
   "cell_type": "code",
   "execution_count": 10,
   "metadata": {},
   "outputs": [],
   "source": [
    "baby_data.index.name = \"ID\"\n",
    "baby_data.columns = ['NEC', \n",
    "                     'NEC_DIAGNOSIS_DOL', \n",
    "                     'BIRTH_AGE',\n",
    "                     'FEEDING',\n",
    "                     'DELIVERY',\n",
    "                     'BIRTH_WEIGHT',\n",
    "                     'INFECTION',\n",
    "                     'INFECTION_DIAGNOSIS_DOL',\n",
    "                     'SEX',\n",
    "                     'ANTIBIOTIC_TREATMENT']"
   ]
  },
  {
   "cell_type": "code",
   "execution_count": 11,
   "metadata": {},
   "outputs": [],
   "source": [
    "baby_data.to_csv(baby_entities_file, encoding=\"utf-8\", quoting=3, sep='\\t', index=True)"
   ]
  },
  {
   "cell_type": "markdown",
   "metadata": {},
   "source": [
    "## Samples"
   ]
  },
  {
   "cell_type": "code",
   "execution_count": 12,
   "metadata": {},
   "outputs": [],
   "source": [
    "meta_data = pd.read_csv(sample_metadata_file, sep='\\t', \n",
    "                        usecols=[\"ProteomeRun1\", \"ProteomeRun2\", \"Day\", \n",
    "                                 \"GestationalAgeInWeeks\", \"Baby\"])\n",
    "meta_data.dropna(subset=['ProteomeRun1', 'ProteomeRun2'], inplace=True)\n",
    "\n",
    "a = meta_data.set_index('ProteomeRun1')\n",
    "del a['ProteomeRun2']\n",
    "\n",
    "b = meta_data.set_index('ProteomeRun2')\n",
    "del b['ProteomeRun1']\n",
    "\n",
    "meta_data = pd.concat([a, b])\n",
    "meta_data.sort_index(inplace=True)"
   ]
  },
  {
   "cell_type": "code",
   "execution_count": 13,
   "metadata": {},
   "outputs": [],
   "source": [
    "def get_sample_id(x):\n",
    "    pattern = re.compile(\"^(?P<number>[0-9]*)\\_(?P<baby>Baby[0-9]*)\\_(?P<day>Day[0-9]*)\\_(?:(?P<sample>[0-9]*)\\_)*50ug_DF_Orbi_Elite_Full_30K_$\")\n",
    "    g = re.match(pattern=pattern, string=x).groupdict()\n",
    "    measurment = g[\"number\"] + \"_\" + g[\"baby\"] + \"_\" + g[\"day\"] \n",
    "    if not g[\"sample\"] is None:\n",
    "        measurment += \"_\" + g[\"sample\"]\n",
    "    return measurment\n",
    "\n",
    "def get_file_id(x):\n",
    "    pattern = re.compile(\"^(?P<number>[0-9]*)\\_(?P<baby>Baby[0-9]*)\\_(?P<day>Day[0-9]*)\\_(?:(?P<sample>[0-9]*)\\_)*50ug_DF_Orbi_Elite_Full_30K_$\")\n",
    "    g = re.match(pattern=pattern, string=x).groupdict()\n",
    "    measurment = g[\"number\"] + \"_\" + g[\"baby\"] + \"_\" + g[\"day\"] \n",
    "    return measurment\n",
    "\n",
    "\n",
    "def get_day_sample(x):\n",
    "    pattern = re.compile(\"^(?P<number>[0-9]*)\\_(?P<baby>Baby[0-9]*)\\_(?P<day>Day[0-9]*)\\_(?:(?P<sample>[0-9]*)\\_)*50ug_DF_Orbi_Elite_Full_30K_$\")\n",
    "    g = re.match(pattern=pattern, string=x).groupdict()\n",
    "    if not g[\"sample\"] is None:\n",
    "        return g[\"sample\"]\n",
    "    else:\n",
    "        return 1\n",
    "\n",
    "meta_data[\"ID\"] = meta_data.index.to_series().apply(get_sample_id)\n",
    "meta_data[\"Day-Sample\"] = meta_data.index.to_series().apply(get_day_sample)\n",
    "meta_data[\"FileID\"] = meta_data.index.to_series().apply(get_file_id)"
   ]
  },
  {
   "cell_type": "code",
   "execution_count": 14,
   "metadata": {},
   "outputs": [],
   "source": [
    "new_ids = []\n",
    "for s, row in meta_data.iterrows():\n",
    "    new_ids.append(\"S_\" + \".\".join([str(row[x]) for x in [\"Baby\", \"Day\", \"Day-Sample\"]]))\n",
    "\n",
    "meta_data.index = new_ids"
   ]
  },
  {
   "cell_type": "code",
   "execution_count": 15,
   "metadata": {},
   "outputs": [
    {
     "data": {
      "text/html": [
       "<div>\n",
       "<style scoped>\n",
       "    .dataframe tbody tr th:only-of-type {\n",
       "        vertical-align: middle;\n",
       "    }\n",
       "\n",
       "    .dataframe tbody tr th {\n",
       "        vertical-align: top;\n",
       "    }\n",
       "\n",
       "    .dataframe thead th {\n",
       "        text-align: right;\n",
       "    }\n",
       "</style>\n",
       "<table border=\"1\" class=\"dataframe\">\n",
       "  <thead>\n",
       "    <tr style=\"text-align: right;\">\n",
       "      <th></th>\n",
       "      <th>Day</th>\n",
       "      <th>Baby</th>\n",
       "      <th>GestationalAgeInWeeks</th>\n",
       "      <th>ID</th>\n",
       "      <th>Day-Sample</th>\n",
       "      <th>FileID</th>\n",
       "    </tr>\n",
       "  </thead>\n",
       "  <tbody>\n",
       "    <tr>\n",
       "      <th>S_3.11.1</th>\n",
       "      <td>11</td>\n",
       "      <td>3</td>\n",
       "      <td>27</td>\n",
       "      <td>20140509_Baby3_Day11</td>\n",
       "      <td>1</td>\n",
       "      <td>20140509_Baby3_Day11</td>\n",
       "    </tr>\n",
       "    <tr>\n",
       "      <th>S_3.11.1</th>\n",
       "      <td>11</td>\n",
       "      <td>3</td>\n",
       "      <td>27</td>\n",
       "      <td>20140510_Baby3_Day11</td>\n",
       "      <td>1</td>\n",
       "      <td>20140510_Baby3_Day11</td>\n",
       "    </tr>\n",
       "    <tr>\n",
       "      <th>S_3.15.1</th>\n",
       "      <td>15</td>\n",
       "      <td>3</td>\n",
       "      <td>28</td>\n",
       "      <td>20140512_Baby3_Day15_1</td>\n",
       "      <td>1</td>\n",
       "      <td>20140512_Baby3_Day15</td>\n",
       "    </tr>\n",
       "    <tr>\n",
       "      <th>S_3.21.1</th>\n",
       "      <td>21</td>\n",
       "      <td>3</td>\n",
       "      <td>29</td>\n",
       "      <td>20140514_Baby3_Day21_1</td>\n",
       "      <td>1</td>\n",
       "      <td>20140514_Baby3_Day21</td>\n",
       "    </tr>\n",
       "    <tr>\n",
       "      <th>S_3.21.1</th>\n",
       "      <td>21</td>\n",
       "      <td>3</td>\n",
       "      <td>29</td>\n",
       "      <td>20140515_Baby3_Day21_1</td>\n",
       "      <td>1</td>\n",
       "      <td>20140515_Baby3_Day21</td>\n",
       "    </tr>\n",
       "  </tbody>\n",
       "</table>\n",
       "</div>"
      ],
      "text/plain": [
       "          Day  Baby  GestationalAgeInWeeks                      ID Day-Sample  \\\n",
       "S_3.11.1   11     3                     27    20140509_Baby3_Day11          1   \n",
       "S_3.11.1   11     3                     27    20140510_Baby3_Day11          1   \n",
       "S_3.15.1   15     3                     28  20140512_Baby3_Day15_1          1   \n",
       "S_3.21.1   21     3                     29  20140514_Baby3_Day21_1          1   \n",
       "S_3.21.1   21     3                     29  20140515_Baby3_Day21_1          1   \n",
       "\n",
       "                        FileID  \n",
       "S_3.11.1  20140509_Baby3_Day11  \n",
       "S_3.11.1  20140510_Baby3_Day11  \n",
       "S_3.15.1  20140512_Baby3_Day15  \n",
       "S_3.21.1  20140514_Baby3_Day21  \n",
       "S_3.21.1  20140515_Baby3_Day21  "
      ]
     },
     "execution_count": 15,
     "metadata": {},
     "output_type": "execute_result"
    }
   ],
   "source": [
    "meta_data.head()"
   ]
  },
  {
   "cell_type": "code",
   "execution_count": 16,
   "metadata": {},
   "outputs": [
    {
     "data": {
      "text/plain": [
       "182"
      ]
     },
     "execution_count": 16,
     "metadata": {},
     "output_type": "execute_result"
    }
   ],
   "source": [
    "len(set(meta_data[\"ID\"])) # 182"
   ]
  },
  {
   "cell_type": "code",
   "execution_count": 17,
   "metadata": {},
   "outputs": [
    {
     "data": {
      "text/plain": [
       "91"
      ]
     },
     "execution_count": 17,
     "metadata": {},
     "output_type": "execute_result"
    }
   ],
   "source": [
    "len(set(meta_data.index)) # 91"
   ]
  },
  {
   "cell_type": "code",
   "execution_count": 18,
   "metadata": {},
   "outputs": [],
   "source": [
    "sample_data = meta_data.copy()\n",
    "sample_data[\"rep\"] = 1\n",
    "sample_data = sample_data.groupby(level=0).aggregate({\"Day\":get_first, \n",
    "                                                    \"GestationalAgeInWeeks\":get_first, \n",
    "                                                    \"Baby\":get_first, \n",
    "                                                    \"rep\":sum})"
   ]
  },
  {
   "cell_type": "code",
   "execution_count": 19,
   "metadata": {},
   "outputs": [],
   "source": [
    "sample_data.index.name = \"ID\"\n",
    "sample_data.columns = [\"DAY\", \"GESTATION_WEEK\", \"BABY\", \"NUM_REPS\"]"
   ]
  },
  {
   "cell_type": "code",
   "execution_count": 20,
   "metadata": {},
   "outputs": [],
   "source": [
    "sample_data.to_csv(sample_entities_file, encoding=\"utf-8\", quoting=3, sep='\\t', index=True)"
   ]
  },
  {
   "cell_type": "code",
   "execution_count": 21,
   "metadata": {},
   "outputs": [
    {
     "data": {
      "text/html": [
       "<div>\n",
       "<style scoped>\n",
       "    .dataframe tbody tr th:only-of-type {\n",
       "        vertical-align: middle;\n",
       "    }\n",
       "\n",
       "    .dataframe tbody tr th {\n",
       "        vertical-align: top;\n",
       "    }\n",
       "\n",
       "    .dataframe thead th {\n",
       "        text-align: right;\n",
       "    }\n",
       "</style>\n",
       "<table border=\"1\" class=\"dataframe\">\n",
       "  <thead>\n",
       "    <tr style=\"text-align: right;\">\n",
       "      <th></th>\n",
       "      <th>DAY</th>\n",
       "      <th>GESTATION_WEEK</th>\n",
       "      <th>BABY</th>\n",
       "      <th>NUM_REPS</th>\n",
       "    </tr>\n",
       "    <tr>\n",
       "      <th>ID</th>\n",
       "      <th></th>\n",
       "      <th></th>\n",
       "      <th></th>\n",
       "      <th></th>\n",
       "    </tr>\n",
       "  </thead>\n",
       "  <tbody>\n",
       "    <tr>\n",
       "      <th>S_19.12.1</th>\n",
       "      <td>12</td>\n",
       "      <td>25</td>\n",
       "      <td>19</td>\n",
       "      <td>2</td>\n",
       "    </tr>\n",
       "    <tr>\n",
       "      <th>S_19.16.1</th>\n",
       "      <td>16</td>\n",
       "      <td>26</td>\n",
       "      <td>19</td>\n",
       "      <td>2</td>\n",
       "    </tr>\n",
       "    <tr>\n",
       "      <th>S_19.20.1</th>\n",
       "      <td>20</td>\n",
       "      <td>26</td>\n",
       "      <td>19</td>\n",
       "      <td>2</td>\n",
       "    </tr>\n",
       "    <tr>\n",
       "      <th>S_19.26.1</th>\n",
       "      <td>26</td>\n",
       "      <td>27</td>\n",
       "      <td>19</td>\n",
       "      <td>2</td>\n",
       "    </tr>\n",
       "    <tr>\n",
       "      <th>S_19.31.1</th>\n",
       "      <td>31</td>\n",
       "      <td>28</td>\n",
       "      <td>19</td>\n",
       "      <td>2</td>\n",
       "    </tr>\n",
       "  </tbody>\n",
       "</table>\n",
       "</div>"
      ],
      "text/plain": [
       "           DAY  GESTATION_WEEK  BABY  NUM_REPS\n",
       "ID                                            \n",
       "S_19.12.1   12              25    19         2\n",
       "S_19.16.1   16              26    19         2\n",
       "S_19.20.1   20              26    19         2\n",
       "S_19.26.1   26              27    19         2\n",
       "S_19.31.1   31              28    19         2"
      ]
     },
     "execution_count": 21,
     "metadata": {},
     "output_type": "execute_result"
    }
   ],
   "source": [
    "sample_data.head()"
   ]
  },
  {
   "cell_type": "code",
   "execution_count": 22,
   "metadata": {},
   "outputs": [],
   "source": [
    "# key for file IDs to new IDs\n",
    "ids = pd.DataFrame(meta_data[\"FileID\"]).reset_index().set_index(\"FileID\").squeeze().to_dict()"
   ]
  },
  {
   "cell_type": "code",
   "execution_count": 23,
   "metadata": {},
   "outputs": [
    {
     "data": {
      "text/plain": [
       "182"
      ]
     },
     "execution_count": 23,
     "metadata": {},
     "output_type": "execute_result"
    }
   ],
   "source": [
    "len(ids.keys()) # 182"
   ]
  },
  {
   "cell_type": "code",
   "execution_count": 24,
   "metadata": {},
   "outputs": [
    {
     "data": {
      "text/plain": [
       "91"
      ]
     },
     "execution_count": 24,
     "metadata": {},
     "output_type": "execute_result"
    }
   ],
   "source": [
    "len(set(ids.values())) # 91"
   ]
  },
  {
   "cell_type": "markdown",
   "metadata": {},
   "source": [
    "## Baby-Sample"
   ]
  },
  {
   "cell_type": "code",
   "execution_count": 25,
   "metadata": {},
   "outputs": [],
   "source": [
    "sample_data[[\"BABY\"]].to_csv(baby_sample_file_name, encoding=\"utf-8\", quoting=3, sep='\\t', index=True)"
   ]
  },
  {
   "cell_type": "markdown",
   "metadata": {},
   "source": [
    "## Measurements"
   ]
  },
  {
   "cell_type": "code",
   "execution_count": 26,
   "metadata": {},
   "outputs": [],
   "source": [
    "#Import all Percolator files and place them in dictionary\n",
    "FilesDict = defaultdict(dict)\n",
    "for (dirpath, dirnames, filenames) in os.walk(percolator_folder):\n",
    "    for name in filenames:\n",
    "        tmp = name.split(\".\")\n",
    "        sample_name = tmp[0]\n",
    "\n",
    "        if name.endswith(\"percolator.log\"):\n",
    "            FilesDict[sample_name]['log'] = name\n",
    "        elif name.endswith(\"percolator.target.proteins.txt\"):\n",
    "            FilesDict[sample_name]['protein'] = name\n",
    "        elif name.endswith(\"percolator.target.psms\"):\n",
    "            FilesDict[sample_name]['psm'] = name\n",
    "        elif name.endswith(\".02.spectral-counts.target.txt\"):\n",
    "            FilesDict[sample_name]['NSAF'] = name\n",
    "        else:\n",
    "            print(name, \"I don't know why I'm here\")"
   ]
  },
  {
   "cell_type": "code",
   "execution_count": 27,
   "metadata": {},
   "outputs": [
    {
     "data": {
      "text/plain": [
       "182"
      ]
     },
     "execution_count": 27,
     "metadata": {},
     "output_type": "execute_result"
    }
   ],
   "source": [
    "len(FilesDict) # 182"
   ]
  },
  {
   "cell_type": "markdown",
   "metadata": {},
   "source": [
    "### Sample-Protein links"
   ]
  },
  {
   "cell_type": "code",
   "execution_count": 28,
   "metadata": {},
   "outputs": [],
   "source": [
    "UniqueCutoff = 1\n",
    "with open(replicates_protein_sample_file_name, \"w\") as out:\n",
    "    out.write(\"SAMPLE\\tPROTEIN\\tQ_VALUE\\tSPEC_COUNT_UNIQUE\\tNSAF\\n\")\n",
    "    for k in FilesDict:\n",
    "        \n",
    "        sample = ids[k]\n",
    "        \n",
    "        protein_file = os.path.join(percolator_folder, FilesDict[k][\"protein\"])\n",
    "        protein_df = pd.read_csv(protein_file, sep=\"\\t\", \n",
    "                                 usecols=[\"ProteinId\", \"q-value\", \"spec_count_unique\"], \n",
    "                                 index_col=0)\n",
    "        # filter by species count\n",
    "        protein_df = protein_df[protein_df[\"spec_count_unique\"] >= UniqueCutoff]\n",
    "\n",
    "        nsaf_file = os.path.join(percolator_folder, FilesDict[k][\"NSAF\"])\n",
    "        nsaf_df = pd.read_csv(nsaf_file, sep=\"\\t\", \n",
    "                              usecols=[\"protein id\", \"NSAF\"], \n",
    "                              index_col=0)\n",
    "        df = protein_df.join(nsaf_df)\n",
    "        df.index = df.index.to_series().apply(lambda x: '\"%s\"'%x)\n",
    "        df.index = pd.MultiIndex.from_tuples(list(zip(cycle([sample]), df.index.values)))\n",
    "        \n",
    "        df.to_csv(out, header=False, sep=\"\\t\", quoting=3)\n"
   ]
  },
  {
   "cell_type": "code",
   "execution_count": 29,
   "metadata": {},
   "outputs": [],
   "source": [
    "df = pd.read_csv(replicates_protein_sample_file_name, sep=\"\\t\")\n",
    "df.sort_values([\"SAMPLE\", \"PROTEIN\"], inplace=True)"
   ]
  },
  {
   "cell_type": "code",
   "execution_count": 30,
   "metadata": {},
   "outputs": [
    {
     "data": {
      "text/plain": [
       "SAMPLE               0\n",
       "PROTEIN              0\n",
       "Q_VALUE              0\n",
       "SPEC_COUNT_UNIQUE    0\n",
       "NSAF                 0\n",
       "dtype: int64"
      ]
     },
     "execution_count": 30,
     "metadata": {},
     "output_type": "execute_result"
    }
   ],
   "source": [
    "df.isnull().sum()"
   ]
  },
  {
   "cell_type": "code",
   "execution_count": 31,
   "metadata": {},
   "outputs": [
    {
     "data": {
      "text/plain": [
       "0"
      ]
     },
     "execution_count": 31,
     "metadata": {},
     "output_type": "execute_result"
    }
   ],
   "source": [
    "df.duplicated().sum() # 0"
   ]
  },
  {
   "cell_type": "code",
   "execution_count": 32,
   "metadata": {},
   "outputs": [
    {
     "data": {
      "text/html": [
       "<div>\n",
       "<style scoped>\n",
       "    .dataframe tbody tr th:only-of-type {\n",
       "        vertical-align: middle;\n",
       "    }\n",
       "\n",
       "    .dataframe tbody tr th {\n",
       "        vertical-align: top;\n",
       "    }\n",
       "\n",
       "    .dataframe thead th {\n",
       "        text-align: right;\n",
       "    }\n",
       "</style>\n",
       "<table border=\"1\" class=\"dataframe\">\n",
       "  <thead>\n",
       "    <tr style=\"text-align: right;\">\n",
       "      <th></th>\n",
       "      <th>SAMPLE</th>\n",
       "      <th>PROTEIN</th>\n",
       "      <th>Q_VALUE</th>\n",
       "      <th>SPEC_COUNT_UNIQUE</th>\n",
       "      <th>NSAF</th>\n",
       "    </tr>\n",
       "  </thead>\n",
       "  <tbody>\n",
       "    <tr>\n",
       "      <th>1177220</th>\n",
       "      <td>S_19.12.1</td>\n",
       "      <td>b019-d010_scaffold_0_100</td>\n",
       "      <td>0.020592</td>\n",
       "      <td>1</td>\n",
       "      <td>0.000009</td>\n",
       "    </tr>\n",
       "    <tr>\n",
       "      <th>1172887</th>\n",
       "      <td>S_19.12.1</td>\n",
       "      <td>b019-d010_scaffold_0_104</td>\n",
       "      <td>0.015775</td>\n",
       "      <td>4</td>\n",
       "      <td>0.000009</td>\n",
       "    </tr>\n",
       "    <tr>\n",
       "      <th>2208266</th>\n",
       "      <td>S_19.12.1</td>\n",
       "      <td>b019-d010_scaffold_0_104</td>\n",
       "      <td>0.021652</td>\n",
       "      <td>1</td>\n",
       "      <td>0.000005</td>\n",
       "    </tr>\n",
       "    <tr>\n",
       "      <th>1185629</th>\n",
       "      <td>S_19.12.1</td>\n",
       "      <td>b019-d010_scaffold_0_105</td>\n",
       "      <td>0.027842</td>\n",
       "      <td>1</td>\n",
       "      <td>0.000004</td>\n",
       "    </tr>\n",
       "    <tr>\n",
       "      <th>1178910</th>\n",
       "      <td>S_19.12.1</td>\n",
       "      <td>b019-d010_scaffold_0_106</td>\n",
       "      <td>0.021569</td>\n",
       "      <td>1</td>\n",
       "      <td>0.000002</td>\n",
       "    </tr>\n",
       "  </tbody>\n",
       "</table>\n",
       "</div>"
      ],
      "text/plain": [
       "            SAMPLE                   PROTEIN   Q_VALUE  SPEC_COUNT_UNIQUE  \\\n",
       "1177220  S_19.12.1  b019-d010_scaffold_0_100  0.020592                  1   \n",
       "1172887  S_19.12.1  b019-d010_scaffold_0_104  0.015775                  4   \n",
       "2208266  S_19.12.1  b019-d010_scaffold_0_104  0.021652                  1   \n",
       "1185629  S_19.12.1  b019-d010_scaffold_0_105  0.027842                  1   \n",
       "1178910  S_19.12.1  b019-d010_scaffold_0_106  0.021569                  1   \n",
       "\n",
       "             NSAF  \n",
       "1177220  0.000009  \n",
       "1172887  0.000009  \n",
       "2208266  0.000005  \n",
       "1185629  0.000004  \n",
       "1178910  0.000002  "
      ]
     },
     "execution_count": 32,
     "metadata": {},
     "output_type": "execute_result"
    }
   ],
   "source": [
    "df.head()"
   ]
  },
  {
   "cell_type": "code",
   "execution_count": 33,
   "metadata": {},
   "outputs": [
    {
     "data": {
      "text/html": [
       "<div>\n",
       "<style scoped>\n",
       "    .dataframe tbody tr th:only-of-type {\n",
       "        vertical-align: middle;\n",
       "    }\n",
       "\n",
       "    .dataframe tbody tr th {\n",
       "        vertical-align: top;\n",
       "    }\n",
       "\n",
       "    .dataframe thead th {\n",
       "        text-align: right;\n",
       "    }\n",
       "</style>\n",
       "<table border=\"1\" class=\"dataframe\">\n",
       "  <thead>\n",
       "    <tr style=\"text-align: right;\">\n",
       "      <th></th>\n",
       "      <th>SAMPLE</th>\n",
       "      <th>PROTEIN</th>\n",
       "      <th>Q_VALUE</th>\n",
       "      <th>SPEC_COUNT_UNIQUE</th>\n",
       "      <th>NSAF</th>\n",
       "    </tr>\n",
       "  </thead>\n",
       "  <tbody>\n",
       "  </tbody>\n",
       "</table>\n",
       "</div>"
      ],
      "text/plain": [
       "Empty DataFrame\n",
       "Columns: [SAMPLE, PROTEIN, Q_VALUE, SPEC_COUNT_UNIQUE, NSAF]\n",
       "Index: []"
      ]
     },
     "execution_count": 33,
     "metadata": {},
     "output_type": "execute_result"
    }
   ],
   "source": [
    "df[df[\"SAMPLE\"]==\"S_93.8.2\"]"
   ]
  },
  {
   "cell_type": "code",
   "execution_count": null,
   "metadata": {},
   "outputs": [],
   "source": []
  },
  {
   "cell_type": "code",
   "execution_count": 34,
   "metadata": {},
   "outputs": [
    {
     "data": {
      "text/plain": [
       "872679"
      ]
     },
     "execution_count": 34,
     "metadata": {},
     "output_type": "execute_result"
    }
   ],
   "source": [
    "df[[\"SAMPLE\", \"PROTEIN\"]].duplicated().sum() # 903424"
   ]
  },
  {
   "cell_type": "code",
   "execution_count": 35,
   "metadata": {},
   "outputs": [],
   "source": [
    "# Merge technical replicates into one protein per sample. \n",
    "# NSAF --> mean\n",
    "# q-value --> min\n",
    "agg = df.groupby([\"SAMPLE\", \"PROTEIN\"]).aggregate({\"Q_VALUE\":min, \"NSAF\":pd.np.mean})"
   ]
  },
  {
   "cell_type": "code",
   "execution_count": 36,
   "metadata": {},
   "outputs": [
    {
     "data": {
      "text/html": [
       "<div>\n",
       "<style scoped>\n",
       "    .dataframe tbody tr th:only-of-type {\n",
       "        vertical-align: middle;\n",
       "    }\n",
       "\n",
       "    .dataframe tbody tr th {\n",
       "        vertical-align: top;\n",
       "    }\n",
       "\n",
       "    .dataframe thead th {\n",
       "        text-align: right;\n",
       "    }\n",
       "</style>\n",
       "<table border=\"1\" class=\"dataframe\">\n",
       "  <thead>\n",
       "    <tr style=\"text-align: right;\">\n",
       "      <th></th>\n",
       "      <th></th>\n",
       "      <th>Q_VALUE</th>\n",
       "      <th>NSAF</th>\n",
       "    </tr>\n",
       "    <tr>\n",
       "      <th>SAMPLE</th>\n",
       "      <th>PROTEIN</th>\n",
       "      <th></th>\n",
       "      <th></th>\n",
       "    </tr>\n",
       "  </thead>\n",
       "  <tbody>\n",
       "    <tr>\n",
       "      <th rowspan=\"5\" valign=\"top\">S_19.12.1</th>\n",
       "      <th>b019-d010_scaffold_0_100</th>\n",
       "      <td>0.020592</td>\n",
       "      <td>0.000009</td>\n",
       "    </tr>\n",
       "    <tr>\n",
       "      <th>b019-d010_scaffold_0_104</th>\n",
       "      <td>0.015775</td>\n",
       "      <td>0.000007</td>\n",
       "    </tr>\n",
       "    <tr>\n",
       "      <th>b019-d010_scaffold_0_105</th>\n",
       "      <td>0.027842</td>\n",
       "      <td>0.000004</td>\n",
       "    </tr>\n",
       "    <tr>\n",
       "      <th>b019-d010_scaffold_0_106</th>\n",
       "      <td>0.021569</td>\n",
       "      <td>0.000002</td>\n",
       "    </tr>\n",
       "    <tr>\n",
       "      <th>b019-d010_scaffold_0_108</th>\n",
       "      <td>0.021922</td>\n",
       "      <td>0.000009</td>\n",
       "    </tr>\n",
       "  </tbody>\n",
       "</table>\n",
       "</div>"
      ],
      "text/plain": [
       "                                     Q_VALUE      NSAF\n",
       "SAMPLE    PROTEIN                                     \n",
       "S_19.12.1 b019-d010_scaffold_0_100  0.020592  0.000009\n",
       "          b019-d010_scaffold_0_104  0.015775  0.000007\n",
       "          b019-d010_scaffold_0_105  0.027842  0.000004\n",
       "          b019-d010_scaffold_0_106  0.021569  0.000002\n",
       "          b019-d010_scaffold_0_108  0.021922  0.000009"
      ]
     },
     "execution_count": 36,
     "metadata": {},
     "output_type": "execute_result"
    }
   ],
   "source": [
    "agg.head()"
   ]
  },
  {
   "cell_type": "code",
   "execution_count": 37,
   "metadata": {},
   "outputs": [],
   "source": [
    "agg.to_csv(aggregated_protein_sample_file_name, sep=\"\\t\", quoting=3)"
   ]
  },
  {
   "cell_type": "code",
   "execution_count": 38,
   "metadata": {},
   "outputs": [
    {
     "data": {
      "text/plain": [
       "'/home/jovyan/data/import/protein_aggregated_sample_relationship.tsv'"
      ]
     },
     "execution_count": 38,
     "metadata": {},
     "output_type": "execute_result"
    }
   ],
   "source": [
    "aggregated_protein_sample_file_name"
   ]
  },
  {
   "cell_type": "markdown",
   "metadata": {},
   "source": [
    "## Proteins"
   ]
  },
  {
   "cell_type": "code",
   "execution_count": 39,
   "metadata": {},
   "outputs": [],
   "source": [
    "proteins = list(set(agg.index.levels[1]))"
   ]
  },
  {
   "cell_type": "code",
   "execution_count": 40,
   "metadata": {},
   "outputs": [
    {
     "data": {
      "text/plain": [
       "652312"
      ]
     },
     "execution_count": 40,
     "metadata": {},
     "output_type": "execute_result"
    }
   ],
   "source": [
    "len(proteins) # 652312"
   ]
  },
  {
   "cell_type": "markdown",
   "metadata": {},
   "source": [
    "### Protein clusters"
   ]
  },
  {
   "cell_type": "code",
   "execution_count": 41,
   "metadata": {},
   "outputs": [],
   "source": [
    "clusters = pd.read_csv(cluster_file, sep=\"\\t\", \n",
    "                       header=None, usecols=[0, 2], \n",
    "                       index_col=[1], names=['cluster', 'protein'])"
   ]
  },
  {
   "cell_type": "code",
   "execution_count": 42,
   "metadata": {},
   "outputs": [
    {
     "name": "stderr",
     "output_type": "stream",
     "text": [
      "/opt/conda/lib/python3.6/site-packages/ipykernel_launcher.py:1: FutureWarning: \n",
      "Passing list-likes to .loc or [] with any missing label will raise\n",
      "KeyError in the future, you can use .reindex() as an alternative.\n",
      "\n",
      "See the documentation here:\n",
      "https://pandas.pydata.org/pandas-docs/stable/indexing.html#deprecate-loc-reindex-listlike\n",
      "  \"\"\"Entry point for launching an IPython kernel.\n"
     ]
    }
   ],
   "source": [
    "clusters = clusters.loc[proteins]"
   ]
  },
  {
   "cell_type": "code",
   "execution_count": 43,
   "metadata": {},
   "outputs": [],
   "source": [
    "def scaffold_id(x):\n",
    "    x = x.strip()\n",
    "    x = x[:x.rfind(\"_\")]\n",
    "    return x\n",
    "\n",
    "clusters[\"scaffold\"] = clusters.index.to_series().apply(scaffold_id)"
   ]
  },
  {
   "cell_type": "code",
   "execution_count": 44,
   "metadata": {},
   "outputs": [
    {
     "data": {
      "text/html": [
       "<div>\n",
       "<style scoped>\n",
       "    .dataframe tbody tr th:only-of-type {\n",
       "        vertical-align: middle;\n",
       "    }\n",
       "\n",
       "    .dataframe tbody tr th {\n",
       "        vertical-align: top;\n",
       "    }\n",
       "\n",
       "    .dataframe thead th {\n",
       "        text-align: right;\n",
       "    }\n",
       "</style>\n",
       "<table border=\"1\" class=\"dataframe\">\n",
       "  <thead>\n",
       "    <tr style=\"text-align: right;\">\n",
       "      <th></th>\n",
       "      <th>cluster</th>\n",
       "      <th>scaffold</th>\n",
       "    </tr>\n",
       "    <tr>\n",
       "      <th>protein</th>\n",
       "      <th></th>\n",
       "      <th></th>\n",
       "    </tr>\n",
       "  </thead>\n",
       "  <tbody>\n",
       "    <tr>\n",
       "      <th>b003-d078_scaffold_1413_2</th>\n",
       "      <td>Cluster516100</td>\n",
       "      <td>b003-d078_scaffold_1413</td>\n",
       "    </tr>\n",
       "    <tr>\n",
       "      <th>70_007_scaffold_158_24</th>\n",
       "      <td>Cluster51958</td>\n",
       "      <td>70_007_scaffold_158</td>\n",
       "    </tr>\n",
       "    <tr>\n",
       "      <th>b021-d012_scaffold_9_87</th>\n",
       "      <td>Cluster471375</td>\n",
       "      <td>b021-d012_scaffold_9</td>\n",
       "    </tr>\n",
       "    <tr>\n",
       "      <th>b003-d026_scaffold_583_1</th>\n",
       "      <td>Cluster194118</td>\n",
       "      <td>b003-d026_scaffold_583</td>\n",
       "    </tr>\n",
       "    <tr>\n",
       "      <th>60_005_scaffold_475_1</th>\n",
       "      <td>Cluster246519</td>\n",
       "      <td>60_005_scaffold_475</td>\n",
       "    </tr>\n",
       "  </tbody>\n",
       "</table>\n",
       "</div>"
      ],
      "text/plain": [
       "                                 cluster                 scaffold\n",
       "protein                                                          \n",
       "b003-d078_scaffold_1413_2  Cluster516100  b003-d078_scaffold_1413\n",
       "70_007_scaffold_158_24      Cluster51958      70_007_scaffold_158\n",
       "b021-d012_scaffold_9_87    Cluster471375     b021-d012_scaffold_9\n",
       "b003-d026_scaffold_583_1   Cluster194118   b003-d026_scaffold_583\n",
       "60_005_scaffold_475_1      Cluster246519      60_005_scaffold_475"
      ]
     },
     "execution_count": 44,
     "metadata": {},
     "output_type": "execute_result"
    }
   ],
   "source": [
    "clusters.head()"
   ]
  },
  {
   "cell_type": "code",
   "execution_count": 45,
   "metadata": {},
   "outputs": [
    {
     "data": {
      "text/plain": [
       "True"
      ]
     },
     "execution_count": 45,
     "metadata": {},
     "output_type": "execute_result"
    }
   ],
   "source": [
    "clusters.shape[0] == len(proteins)"
   ]
  },
  {
   "cell_type": "markdown",
   "metadata": {},
   "source": [
    "### Taxa"
   ]
  },
  {
   "cell_type": "code",
   "execution_count": 46,
   "metadata": {},
   "outputs": [],
   "source": [
    "taxa_df = pd.read_csv(taxa_file, sep=\"\\t\", usecols=[0, 3], index_col=0, names=[\"scaffold\", \"species\"], header=0)\n",
    "taxa_df['genus'] = taxa_df[\"species\"].str.split(' ', 1).str[0]"
   ]
  },
  {
   "cell_type": "code",
   "execution_count": 47,
   "metadata": {},
   "outputs": [
    {
     "data": {
      "text/html": [
       "<div>\n",
       "<style scoped>\n",
       "    .dataframe tbody tr th:only-of-type {\n",
       "        vertical-align: middle;\n",
       "    }\n",
       "\n",
       "    .dataframe tbody tr th {\n",
       "        vertical-align: top;\n",
       "    }\n",
       "\n",
       "    .dataframe thead th {\n",
       "        text-align: right;\n",
       "    }\n",
       "</style>\n",
       "<table border=\"1\" class=\"dataframe\">\n",
       "  <thead>\n",
       "    <tr style=\"text-align: right;\">\n",
       "      <th></th>\n",
       "      <th>species</th>\n",
       "      <th>genus</th>\n",
       "    </tr>\n",
       "    <tr>\n",
       "      <th>scaffold</th>\n",
       "      <th></th>\n",
       "      <th></th>\n",
       "    </tr>\n",
       "  </thead>\n",
       "  <tbody>\n",
       "    <tr>\n",
       "      <th>b003-d013_scaffold_203</th>\n",
       "      <td>Staphylococcus epidermidis 2</td>\n",
       "      <td>Staphylococcus</td>\n",
       "    </tr>\n",
       "    <tr>\n",
       "      <th>b003-d013_scaffold_211</th>\n",
       "      <td>Staphylococcus epidermidis 2</td>\n",
       "      <td>Staphylococcus</td>\n",
       "    </tr>\n",
       "    <tr>\n",
       "      <th>b003-d013_scaffold_52</th>\n",
       "      <td>Staphylococcus epidermidis 2</td>\n",
       "      <td>Staphylococcus</td>\n",
       "    </tr>\n",
       "    <tr>\n",
       "      <th>b003-d013_scaffold_40</th>\n",
       "      <td>Staphylococcus epidermidis 2</td>\n",
       "      <td>Staphylococcus</td>\n",
       "    </tr>\n",
       "    <tr>\n",
       "      <th>b003-d013_scaffold_316</th>\n",
       "      <td>Staphylococcus epidermidis 2</td>\n",
       "      <td>Staphylococcus</td>\n",
       "    </tr>\n",
       "  </tbody>\n",
       "</table>\n",
       "</div>"
      ],
      "text/plain": [
       "                                             species           genus\n",
       "scaffold                                                            \n",
       "b003-d013_scaffold_203  Staphylococcus epidermidis 2  Staphylococcus\n",
       "b003-d013_scaffold_211  Staphylococcus epidermidis 2  Staphylococcus\n",
       "b003-d013_scaffold_52   Staphylococcus epidermidis 2  Staphylococcus\n",
       "b003-d013_scaffold_40   Staphylococcus epidermidis 2  Staphylococcus\n",
       "b003-d013_scaffold_316  Staphylococcus epidermidis 2  Staphylococcus"
      ]
     },
     "execution_count": 47,
     "metadata": {},
     "output_type": "execute_result"
    }
   ],
   "source": [
    "taxa_df.head()"
   ]
  },
  {
   "cell_type": "code",
   "execution_count": 48,
   "metadata": {},
   "outputs": [],
   "source": [
    "proteins_dat = clusters.join(taxa_df, on=\"scaffold\")"
   ]
  },
  {
   "cell_type": "code",
   "execution_count": 49,
   "metadata": {},
   "outputs": [
    {
     "data": {
      "text/plain": [
       "(652312, 4)"
      ]
     },
     "execution_count": 49,
     "metadata": {},
     "output_type": "execute_result"
    }
   ],
   "source": [
    "proteins_dat.shape # 652,312"
   ]
  },
  {
   "cell_type": "code",
   "execution_count": 50,
   "metadata": {},
   "outputs": [
    {
     "data": {
      "text/html": [
       "<div>\n",
       "<style scoped>\n",
       "    .dataframe tbody tr th:only-of-type {\n",
       "        vertical-align: middle;\n",
       "    }\n",
       "\n",
       "    .dataframe tbody tr th {\n",
       "        vertical-align: top;\n",
       "    }\n",
       "\n",
       "    .dataframe thead th {\n",
       "        text-align: right;\n",
       "    }\n",
       "</style>\n",
       "<table border=\"1\" class=\"dataframe\">\n",
       "  <thead>\n",
       "    <tr style=\"text-align: right;\">\n",
       "      <th></th>\n",
       "      <th>cluster</th>\n",
       "      <th>scaffold</th>\n",
       "      <th>species</th>\n",
       "      <th>genus</th>\n",
       "    </tr>\n",
       "    <tr>\n",
       "      <th>protein</th>\n",
       "      <th></th>\n",
       "      <th></th>\n",
       "      <th></th>\n",
       "      <th></th>\n",
       "    </tr>\n",
       "  </thead>\n",
       "  <tbody>\n",
       "    <tr>\n",
       "      <th>b003-d078_scaffold_1413_2</th>\n",
       "      <td>Cluster516100</td>\n",
       "      <td>b003-d078_scaffold_1413</td>\n",
       "      <td>NaN</td>\n",
       "      <td>NaN</td>\n",
       "    </tr>\n",
       "    <tr>\n",
       "      <th>70_007_scaffold_158_24</th>\n",
       "      <td>Cluster51958</td>\n",
       "      <td>70_007_scaffold_158</td>\n",
       "      <td>Enterococcus faecalis 2</td>\n",
       "      <td>Enterococcus</td>\n",
       "    </tr>\n",
       "    <tr>\n",
       "      <th>b021-d012_scaffold_9_87</th>\n",
       "      <td>Cluster471375</td>\n",
       "      <td>b021-d012_scaffold_9</td>\n",
       "      <td>Propionibacterium acnes</td>\n",
       "      <td>Propionibacterium</td>\n",
       "    </tr>\n",
       "    <tr>\n",
       "      <th>b003-d026_scaffold_583_1</th>\n",
       "      <td>Cluster194118</td>\n",
       "      <td>b003-d026_scaffold_583</td>\n",
       "      <td>Klebsiella pneumoniae</td>\n",
       "      <td>Klebsiella</td>\n",
       "    </tr>\n",
       "    <tr>\n",
       "      <th>60_005_scaffold_475_1</th>\n",
       "      <td>Cluster246519</td>\n",
       "      <td>60_005_scaffold_475</td>\n",
       "      <td>Klebsiella sp</td>\n",
       "      <td>Klebsiella</td>\n",
       "    </tr>\n",
       "  </tbody>\n",
       "</table>\n",
       "</div>"
      ],
      "text/plain": [
       "                                 cluster                 scaffold  \\\n",
       "protein                                                             \n",
       "b003-d078_scaffold_1413_2  Cluster516100  b003-d078_scaffold_1413   \n",
       "70_007_scaffold_158_24      Cluster51958      70_007_scaffold_158   \n",
       "b021-d012_scaffold_9_87    Cluster471375     b021-d012_scaffold_9   \n",
       "b003-d026_scaffold_583_1   Cluster194118   b003-d026_scaffold_583   \n",
       "60_005_scaffold_475_1      Cluster246519      60_005_scaffold_475   \n",
       "\n",
       "                                           species              genus  \n",
       "protein                                                                \n",
       "b003-d078_scaffold_1413_2                      NaN                NaN  \n",
       "70_007_scaffold_158_24     Enterococcus faecalis 2       Enterococcus  \n",
       "b021-d012_scaffold_9_87    Propionibacterium acnes  Propionibacterium  \n",
       "b003-d026_scaffold_583_1     Klebsiella pneumoniae         Klebsiella  \n",
       "60_005_scaffold_475_1                Klebsiella sp         Klebsiella  "
      ]
     },
     "execution_count": 50,
     "metadata": {},
     "output_type": "execute_result"
    }
   ],
   "source": [
    "proteins_dat.head()"
   ]
  },
  {
   "cell_type": "code",
   "execution_count": 51,
   "metadata": {},
   "outputs": [],
   "source": [
    "version = \"KO.bacteria\"\n",
    "bact_eggnog_df = pd.read_csv(bact_eggnogg_file_path, sep=\"\\t\", header=None, comment=\"#\",\n",
    "                        names=[\"protein\", version], usecols=[0, 6], index_col=0)\n",
    "bact_eggnog_df.dropna(axis=0, how='any', inplace=True)\n",
    "bact_eggnog_df[version] = bact_eggnog_df[version].str.split(\",\")"
   ]
  },
  {
   "cell_type": "code",
   "execution_count": 52,
   "metadata": {},
   "outputs": [],
   "source": [
    "version = \"KO.human\"\n",
    "human_eggnog_df = pd.read_csv(human_eggnogg_file_path, sep=\"\\t\", header=None, comment=\"#\",\n",
    "                        names=[\"protein\", version], usecols=[0, 6], index_col=0)\n",
    "human_eggnog_df.dropna(axis=0, how='any', inplace=True)\n",
    "human_eggnog_df[version] = human_eggnog_df[version].str.split(\",\")"
   ]
  },
  {
   "cell_type": "code",
   "execution_count": 53,
   "metadata": {},
   "outputs": [],
   "source": [
    "proteins_dat = proteins_dat.join(bact_eggnog_df).join(human_eggnog_df)"
   ]
  },
  {
   "cell_type": "code",
   "execution_count": 54,
   "metadata": {},
   "outputs": [],
   "source": [
    "def combine_cols(row, col1, col2):\n",
    "    result = []\n",
    "    for l in (row[col1], row[col2]):\n",
    "        if type(l) == list:\n",
    "            result += l\n",
    "    return list(set(result))\n",
    "\n",
    "\n",
    "proteins_dat[\"KO\"] = proteins_dat.apply(combine_cols, col1=\"KO.bacteria\", col2=\"KO.human\", axis=1)"
   ]
  },
  {
   "cell_type": "code",
   "execution_count": 55,
   "metadata": {},
   "outputs": [],
   "source": [
    "del proteins_dat[\"KO.bacteria\"]\n",
    "del proteins_dat[\"KO.human\"]\n",
    "del proteins_dat[\"scaffold\"]"
   ]
  },
  {
   "cell_type": "code",
   "execution_count": 56,
   "metadata": {},
   "outputs": [],
   "source": [
    "protein_entities = proteins_dat.copy() # use for saving protein entities"
   ]
  },
  {
   "cell_type": "code",
   "execution_count": 57,
   "metadata": {},
   "outputs": [],
   "source": [
    "human_overlap = list(set(human_eggnog_df.index).intersection(proteins_dat.index))\n",
    "protein_entities.loc[human_overlap, \"genus\"] = \"Homo\"\n",
    "protein_entities.loc[human_overlap, \"species\"] = \"Homo sapiens\"\n",
    "\n",
    "protein_entities.loc[human_overlap, \"Taxa\"] = \"human\"\n",
    "protein_entities.loc[~protein_entities.index.isin(human_overlap), \"Taxa\"] = \"bacteria\""
   ]
  },
  {
   "cell_type": "code",
   "execution_count": 58,
   "metadata": {},
   "outputs": [],
   "source": [
    "protein_entities[\"KO\"] = protein_entities[\"KO\"].apply(list_to_string)"
   ]
  },
  {
   "cell_type": "code",
   "execution_count": 59,
   "metadata": {},
   "outputs": [
    {
     "data": {
      "text/html": [
       "<div>\n",
       "<style scoped>\n",
       "    .dataframe tbody tr th:only-of-type {\n",
       "        vertical-align: middle;\n",
       "    }\n",
       "\n",
       "    .dataframe tbody tr th {\n",
       "        vertical-align: top;\n",
       "    }\n",
       "\n",
       "    .dataframe thead th {\n",
       "        text-align: right;\n",
       "    }\n",
       "</style>\n",
       "<table border=\"1\" class=\"dataframe\">\n",
       "  <thead>\n",
       "    <tr style=\"text-align: right;\">\n",
       "      <th></th>\n",
       "      <th>cluster</th>\n",
       "      <th>species</th>\n",
       "      <th>genus</th>\n",
       "      <th>KO</th>\n",
       "      <th>Taxa</th>\n",
       "    </tr>\n",
       "    <tr>\n",
       "      <th>protein</th>\n",
       "      <th></th>\n",
       "      <th></th>\n",
       "      <th></th>\n",
       "      <th></th>\n",
       "      <th></th>\n",
       "    </tr>\n",
       "  </thead>\n",
       "  <tbody>\n",
       "    <tr>\n",
       "      <th>b003-d078_scaffold_1413_2</th>\n",
       "      <td>Cluster516100</td>\n",
       "      <td>NaN</td>\n",
       "      <td>NaN</td>\n",
       "      <td>K18568</td>\n",
       "      <td>bacteria</td>\n",
       "    </tr>\n",
       "    <tr>\n",
       "      <th>70_007_scaffold_158_24</th>\n",
       "      <td>Cluster51958</td>\n",
       "      <td>Enterococcus faecalis 2</td>\n",
       "      <td>Enterococcus</td>\n",
       "      <td>K02470,K02622</td>\n",
       "      <td>bacteria</td>\n",
       "    </tr>\n",
       "    <tr>\n",
       "      <th>b021-d012_scaffold_9_87</th>\n",
       "      <td>Cluster471375</td>\n",
       "      <td>Propionibacterium acnes</td>\n",
       "      <td>Propionibacterium</td>\n",
       "      <td></td>\n",
       "      <td>bacteria</td>\n",
       "    </tr>\n",
       "    <tr>\n",
       "      <th>b003-d026_scaffold_583_1</th>\n",
       "      <td>Cluster194118</td>\n",
       "      <td>Klebsiella pneumoniae</td>\n",
       "      <td>Klebsiella</td>\n",
       "      <td>K03528</td>\n",
       "      <td>bacteria</td>\n",
       "    </tr>\n",
       "    <tr>\n",
       "      <th>60_005_scaffold_475_1</th>\n",
       "      <td>Cluster246519</td>\n",
       "      <td>Klebsiella sp</td>\n",
       "      <td>Klebsiella</td>\n",
       "      <td>K00863,K05878</td>\n",
       "      <td>bacteria</td>\n",
       "    </tr>\n",
       "  </tbody>\n",
       "</table>\n",
       "</div>"
      ],
      "text/plain": [
       "                                 cluster                  species  \\\n",
       "protein                                                             \n",
       "b003-d078_scaffold_1413_2  Cluster516100                      NaN   \n",
       "70_007_scaffold_158_24      Cluster51958  Enterococcus faecalis 2   \n",
       "b021-d012_scaffold_9_87    Cluster471375  Propionibacterium acnes   \n",
       "b003-d026_scaffold_583_1   Cluster194118    Klebsiella pneumoniae   \n",
       "60_005_scaffold_475_1      Cluster246519            Klebsiella sp   \n",
       "\n",
       "                                       genus             KO      Taxa  \n",
       "protein                                                                \n",
       "b003-d078_scaffold_1413_2                NaN         K18568  bacteria  \n",
       "70_007_scaffold_158_24          Enterococcus  K02470,K02622  bacteria  \n",
       "b021-d012_scaffold_9_87    Propionibacterium                 bacteria  \n",
       "b003-d026_scaffold_583_1          Klebsiella         K03528  bacteria  \n",
       "60_005_scaffold_475_1             Klebsiella  K00863,K05878  bacteria  "
      ]
     },
     "execution_count": 59,
     "metadata": {},
     "output_type": "execute_result"
    }
   ],
   "source": [
    "protein_entities.head()"
   ]
  },
  {
   "cell_type": "code",
   "execution_count": 60,
   "metadata": {},
   "outputs": [],
   "source": [
    "protein_entities.index.name = \"ID\"\n",
    "protein_entities.columns = ['CLUSTER',\n",
    "                            'SPECIES',\n",
    "                            'GENUS', \n",
    "                            'KO', \n",
    "                            'TAXA']\n"
   ]
  },
  {
   "cell_type": "code",
   "execution_count": 61,
   "metadata": {},
   "outputs": [],
   "source": [
    "protein_entities['SPECIES'] = protein_entities['SPECIES'].apply(lambda x: '\"%s\"'%x)"
   ]
  },
  {
   "cell_type": "code",
   "execution_count": 62,
   "metadata": {},
   "outputs": [],
   "source": [
    "protein_entities.to_csv(protein_entities_file, encoding=\"utf-8\", quoting=3, sep='\\t', index=True)"
   ]
  },
  {
   "cell_type": "code",
   "execution_count": 63,
   "metadata": {},
   "outputs": [],
   "source": [
    "del protein_entities"
   ]
  },
  {
   "cell_type": "code",
   "execution_count": 64,
   "metadata": {},
   "outputs": [],
   "source": [
    "proteins_dat = proteins_dat[[\"KO\"]]"
   ]
  },
  {
   "cell_type": "code",
   "execution_count": 65,
   "metadata": {},
   "outputs": [
    {
     "data": {
      "text/html": [
       "<div>\n",
       "<style scoped>\n",
       "    .dataframe tbody tr th:only-of-type {\n",
       "        vertical-align: middle;\n",
       "    }\n",
       "\n",
       "    .dataframe tbody tr th {\n",
       "        vertical-align: top;\n",
       "    }\n",
       "\n",
       "    .dataframe thead th {\n",
       "        text-align: right;\n",
       "    }\n",
       "</style>\n",
       "<table border=\"1\" class=\"dataframe\">\n",
       "  <thead>\n",
       "    <tr style=\"text-align: right;\">\n",
       "      <th></th>\n",
       "      <th>KO</th>\n",
       "    </tr>\n",
       "    <tr>\n",
       "      <th>protein</th>\n",
       "      <th></th>\n",
       "    </tr>\n",
       "  </thead>\n",
       "  <tbody>\n",
       "    <tr>\n",
       "      <th>b003-d078_scaffold_1413_2</th>\n",
       "      <td>[K18568]</td>\n",
       "    </tr>\n",
       "    <tr>\n",
       "      <th>70_007_scaffold_158_24</th>\n",
       "      <td>[K02470, K02622]</td>\n",
       "    </tr>\n",
       "    <tr>\n",
       "      <th>b021-d012_scaffold_9_87</th>\n",
       "      <td>[]</td>\n",
       "    </tr>\n",
       "    <tr>\n",
       "      <th>b003-d026_scaffold_583_1</th>\n",
       "      <td>[K03528]</td>\n",
       "    </tr>\n",
       "    <tr>\n",
       "      <th>60_005_scaffold_475_1</th>\n",
       "      <td>[K00863, K05878]</td>\n",
       "    </tr>\n",
       "  </tbody>\n",
       "</table>\n",
       "</div>"
      ],
      "text/plain": [
       "                                         KO\n",
       "protein                                    \n",
       "b003-d078_scaffold_1413_2          [K18568]\n",
       "70_007_scaffold_158_24     [K02470, K02622]\n",
       "b021-d012_scaffold_9_87                  []\n",
       "b003-d026_scaffold_583_1           [K03528]\n",
       "60_005_scaffold_475_1      [K00863, K05878]"
      ]
     },
     "execution_count": 65,
     "metadata": {},
     "output_type": "execute_result"
    }
   ],
   "source": [
    "proteins_dat.head()"
   ]
  },
  {
   "cell_type": "code",
   "execution_count": 66,
   "metadata": {},
   "outputs": [],
   "source": [
    "# delete no KO -term\n",
    "ids = proteins_dat.apply(lambda x:x[\"KO\"]==[], axis=1)\n",
    "proteins_dat = proteins_dat[~ids]"
   ]
  },
  {
   "cell_type": "code",
   "execution_count": 67,
   "metadata": {},
   "outputs": [],
   "source": [
    "KOs = pd.DataFrame(proteins_dat['KO'].apply(pd.Series, 1).stack())\n",
    "KOs.index = KOs.index.droplevel(-1)\n",
    "KOs.columns = ['KO']"
   ]
  },
  {
   "cell_type": "code",
   "execution_count": 68,
   "metadata": {},
   "outputs": [
    {
     "data": {
      "text/html": [
       "<div>\n",
       "<style scoped>\n",
       "    .dataframe tbody tr th:only-of-type {\n",
       "        vertical-align: middle;\n",
       "    }\n",
       "\n",
       "    .dataframe tbody tr th {\n",
       "        vertical-align: top;\n",
       "    }\n",
       "\n",
       "    .dataframe thead th {\n",
       "        text-align: right;\n",
       "    }\n",
       "</style>\n",
       "<table border=\"1\" class=\"dataframe\">\n",
       "  <thead>\n",
       "    <tr style=\"text-align: right;\">\n",
       "      <th></th>\n",
       "      <th>KO</th>\n",
       "    </tr>\n",
       "    <tr>\n",
       "      <th>protein</th>\n",
       "      <th></th>\n",
       "    </tr>\n",
       "  </thead>\n",
       "  <tbody>\n",
       "    <tr>\n",
       "      <th>b003-d078_scaffold_1413_2</th>\n",
       "      <td>K18568</td>\n",
       "    </tr>\n",
       "    <tr>\n",
       "      <th>70_007_scaffold_158_24</th>\n",
       "      <td>K02470</td>\n",
       "    </tr>\n",
       "    <tr>\n",
       "      <th>70_007_scaffold_158_24</th>\n",
       "      <td>K02622</td>\n",
       "    </tr>\n",
       "    <tr>\n",
       "      <th>b003-d026_scaffold_583_1</th>\n",
       "      <td>K03528</td>\n",
       "    </tr>\n",
       "    <tr>\n",
       "      <th>60_005_scaffold_475_1</th>\n",
       "      <td>K00863</td>\n",
       "    </tr>\n",
       "  </tbody>\n",
       "</table>\n",
       "</div>"
      ],
      "text/plain": [
       "                               KO\n",
       "protein                          \n",
       "b003-d078_scaffold_1413_2  K18568\n",
       "70_007_scaffold_158_24     K02470\n",
       "70_007_scaffold_158_24     K02622\n",
       "b003-d026_scaffold_583_1   K03528\n",
       "60_005_scaffold_475_1      K00863"
      ]
     },
     "execution_count": 68,
     "metadata": {},
     "output_type": "execute_result"
    }
   ],
   "source": [
    "KOs.head()"
   ]
  },
  {
   "cell_type": "code",
   "execution_count": 69,
   "metadata": {},
   "outputs": [],
   "source": [
    "# KEGG translators\n",
    "f = lambda x:x.split(\":\")[1]\n",
    "df_ko_rn = pd.read_csv(ko_rn, sep=\"\\t\", header=None, index_col=0, names=[\"ko\", \"rn-ko\"], converters={0:f, 1:f})\n",
    "df_ko_ec = pd.read_csv(ko_ec, sep=\"\\t\", header=None, index_col=0, names=[\"ko\", \"ec\"], converters={0:f, 1:f})\n",
    "df_ec_rn = pd.read_csv(ec_rn, sep=\"\\t\", header=None, index_col=0, names=[\"ec\", \"rn-ec\"], converters={0:f, 1:f})"
   ]
  },
  {
   "cell_type": "code",
   "execution_count": 70,
   "metadata": {
    "scrolled": true
   },
   "outputs": [],
   "source": [
    "KOs = KOs.join(df_ko_rn, on=\"KO\")\n",
    "KOs = KOs.join(df_ko_ec, on=\"KO\")\n",
    "KOs = KOs.join(df_ec_rn, on=\"ec\")"
   ]
  },
  {
   "cell_type": "code",
   "execution_count": 71,
   "metadata": {},
   "outputs": [],
   "source": [
    "def combine_cols_v2(row, col1, col2):\n",
    "    result = []\n",
    "    for l in (row[col1], row[col2]):\n",
    "        if not pd.isnull(l):\n",
    "            result += [l]\n",
    "    if len(result) > 0:\n",
    "        return list(set(result))\n",
    "    else:\n",
    "        return pd.np.NAN"
   ]
  },
  {
   "cell_type": "code",
   "execution_count": 72,
   "metadata": {},
   "outputs": [],
   "source": [
    "KOs[\"REACTION\"] = KOs.apply(combine_cols_v2, col1=\"rn-ko\", col2=\"rn-ec\", axis=1)"
   ]
  },
  {
   "cell_type": "code",
   "execution_count": 73,
   "metadata": {},
   "outputs": [
    {
     "data": {
      "text/html": [
       "<div>\n",
       "<style scoped>\n",
       "    .dataframe tbody tr th:only-of-type {\n",
       "        vertical-align: middle;\n",
       "    }\n",
       "\n",
       "    .dataframe tbody tr th {\n",
       "        vertical-align: top;\n",
       "    }\n",
       "\n",
       "    .dataframe thead th {\n",
       "        text-align: right;\n",
       "    }\n",
       "</style>\n",
       "<table border=\"1\" class=\"dataframe\">\n",
       "  <thead>\n",
       "    <tr style=\"text-align: right;\">\n",
       "      <th></th>\n",
       "      <th>KO</th>\n",
       "      <th>rn-ko</th>\n",
       "      <th>ec</th>\n",
       "      <th>rn-ec</th>\n",
       "      <th>REACTION</th>\n",
       "    </tr>\n",
       "    <tr>\n",
       "      <th>protein</th>\n",
       "      <th></th>\n",
       "      <th></th>\n",
       "      <th></th>\n",
       "      <th></th>\n",
       "      <th></th>\n",
       "    </tr>\n",
       "  </thead>\n",
       "  <tbody>\n",
       "    <tr>\n",
       "      <th>b003-d078_scaffold_1413_2</th>\n",
       "      <td>K18568</td>\n",
       "      <td>R10747</td>\n",
       "      <td>NaN</td>\n",
       "      <td>NaN</td>\n",
       "      <td>[R10747]</td>\n",
       "    </tr>\n",
       "    <tr>\n",
       "      <th>70_007_scaffold_158_24</th>\n",
       "      <td>K02470</td>\n",
       "      <td>NaN</td>\n",
       "      <td>5.6.2.2</td>\n",
       "      <td>NaN</td>\n",
       "      <td>NaN</td>\n",
       "    </tr>\n",
       "    <tr>\n",
       "      <th>70_007_scaffold_158_24</th>\n",
       "      <td>K02622</td>\n",
       "      <td>NaN</td>\n",
       "      <td>5.6.2.2</td>\n",
       "      <td>NaN</td>\n",
       "      <td>NaN</td>\n",
       "    </tr>\n",
       "    <tr>\n",
       "      <th>b003-d026_scaffold_583_1</th>\n",
       "      <td>K03528</td>\n",
       "      <td>NaN</td>\n",
       "      <td>NaN</td>\n",
       "      <td>NaN</td>\n",
       "      <td>NaN</td>\n",
       "    </tr>\n",
       "    <tr>\n",
       "      <th>60_005_scaffold_475_1</th>\n",
       "      <td>K00863</td>\n",
       "      <td>R01011</td>\n",
       "      <td>2.7.1.28</td>\n",
       "      <td>R01059</td>\n",
       "      <td>[R01059, R01011]</td>\n",
       "    </tr>\n",
       "  </tbody>\n",
       "</table>\n",
       "</div>"
      ],
      "text/plain": [
       "                               KO   rn-ko        ec   rn-ec          REACTION\n",
       "protein                                                                      \n",
       "b003-d078_scaffold_1413_2  K18568  R10747       NaN     NaN          [R10747]\n",
       "70_007_scaffold_158_24     K02470     NaN   5.6.2.2     NaN               NaN\n",
       "70_007_scaffold_158_24     K02622     NaN   5.6.2.2     NaN               NaN\n",
       "b003-d026_scaffold_583_1   K03528     NaN       NaN     NaN               NaN\n",
       "60_005_scaffold_475_1      K00863  R01011  2.7.1.28  R01059  [R01059, R01011]"
      ]
     },
     "execution_count": 73,
     "metadata": {},
     "output_type": "execute_result"
    }
   ],
   "source": [
    "KOs.head()"
   ]
  },
  {
   "cell_type": "code",
   "execution_count": 74,
   "metadata": {},
   "outputs": [
    {
     "data": {
      "text/plain": [
       "KO               0\n",
       "rn-ko       392833\n",
       "ec          299101\n",
       "rn-ec       340802\n",
       "REACTION    313540\n",
       "dtype: int64"
      ]
     },
     "execution_count": 74,
     "metadata": {},
     "output_type": "execute_result"
    }
   ],
   "source": [
    "# number missing REACTION should be smaller than rn and rn-ec\n",
    "KOs.isnull().sum()"
   ]
  },
  {
   "cell_type": "code",
   "execution_count": 75,
   "metadata": {},
   "outputs": [],
   "source": [
    "KOs = KOs[[\"KO\", \"REACTION\"]]"
   ]
  },
  {
   "cell_type": "code",
   "execution_count": 76,
   "metadata": {},
   "outputs": [],
   "source": [
    "KOs.set_index(['KO'], append=True, inplace=True)"
   ]
  },
  {
   "cell_type": "code",
   "execution_count": 77,
   "metadata": {},
   "outputs": [],
   "source": [
    "KOs.dropna(subset=[\"REACTION\"], inplace=True)"
   ]
  },
  {
   "cell_type": "code",
   "execution_count": 78,
   "metadata": {},
   "outputs": [
    {
     "data": {
      "text/plain": [
       "(3331712, 1)"
      ]
     },
     "execution_count": 78,
     "metadata": {},
     "output_type": "execute_result"
    }
   ],
   "source": [
    "KOs.shape # 3,331,712"
   ]
  },
  {
   "cell_type": "code",
   "execution_count": 79,
   "metadata": {},
   "outputs": [
    {
     "data": {
      "text/html": [
       "<div>\n",
       "<style scoped>\n",
       "    .dataframe tbody tr th:only-of-type {\n",
       "        vertical-align: middle;\n",
       "    }\n",
       "\n",
       "    .dataframe tbody tr th {\n",
       "        vertical-align: top;\n",
       "    }\n",
       "\n",
       "    .dataframe thead th {\n",
       "        text-align: right;\n",
       "    }\n",
       "</style>\n",
       "<table border=\"1\" class=\"dataframe\">\n",
       "  <thead>\n",
       "    <tr style=\"text-align: right;\">\n",
       "      <th></th>\n",
       "      <th></th>\n",
       "      <th>REACTION</th>\n",
       "    </tr>\n",
       "    <tr>\n",
       "      <th>protein</th>\n",
       "      <th>KO</th>\n",
       "      <th></th>\n",
       "    </tr>\n",
       "  </thead>\n",
       "  <tbody>\n",
       "    <tr>\n",
       "      <th>b003-d078_scaffold_1413_2</th>\n",
       "      <th>K18568</th>\n",
       "      <td>[R10747]</td>\n",
       "    </tr>\n",
       "    <tr>\n",
       "      <th rowspan=\"4\" valign=\"top\">60_005_scaffold_475_1</th>\n",
       "      <th>K00863</th>\n",
       "      <td>[R01059, R01011]</td>\n",
       "    </tr>\n",
       "    <tr>\n",
       "      <th>K00863</th>\n",
       "      <td>[R01011]</td>\n",
       "    </tr>\n",
       "    <tr>\n",
       "      <th>K00863</th>\n",
       "      <td>[R01011, R07636]</td>\n",
       "    </tr>\n",
       "    <tr>\n",
       "      <th>K00863</th>\n",
       "      <td>[R01059]</td>\n",
       "    </tr>\n",
       "  </tbody>\n",
       "</table>\n",
       "</div>"
      ],
      "text/plain": [
       "                                          REACTION\n",
       "protein                   KO                      \n",
       "b003-d078_scaffold_1413_2 K18568          [R10747]\n",
       "60_005_scaffold_475_1     K00863  [R01059, R01011]\n",
       "                          K00863          [R01011]\n",
       "                          K00863  [R01011, R07636]\n",
       "                          K00863          [R01059]"
      ]
     },
     "execution_count": 79,
     "metadata": {},
     "output_type": "execute_result"
    }
   ],
   "source": [
    "KOs.head()"
   ]
  },
  {
   "cell_type": "code",
   "execution_count": 80,
   "metadata": {},
   "outputs": [],
   "source": [
    "edges = KOs.groupby(level=[0, 1]).aggregate(lambda x:set(x.sum()))"
   ]
  },
  {
   "cell_type": "code",
   "execution_count": 81,
   "metadata": {},
   "outputs": [
    {
     "data": {
      "text/plain": [
       "(258719, 1)"
      ]
     },
     "execution_count": 81,
     "metadata": {},
     "output_type": "execute_result"
    }
   ],
   "source": [
    "edges.shape # 258719"
   ]
  },
  {
   "cell_type": "code",
   "execution_count": 82,
   "metadata": {},
   "outputs": [
    {
     "data": {
      "text/html": [
       "<div>\n",
       "<style scoped>\n",
       "    .dataframe tbody tr th:only-of-type {\n",
       "        vertical-align: middle;\n",
       "    }\n",
       "\n",
       "    .dataframe tbody tr th {\n",
       "        vertical-align: top;\n",
       "    }\n",
       "\n",
       "    .dataframe thead th {\n",
       "        text-align: right;\n",
       "    }\n",
       "</style>\n",
       "<table border=\"1\" class=\"dataframe\">\n",
       "  <thead>\n",
       "    <tr style=\"text-align: right;\">\n",
       "      <th></th>\n",
       "      <th></th>\n",
       "      <th>REACTION</th>\n",
       "    </tr>\n",
       "    <tr>\n",
       "      <th>protein</th>\n",
       "      <th>KO</th>\n",
       "      <th></th>\n",
       "    </tr>\n",
       "  </thead>\n",
       "  <tbody>\n",
       "    <tr>\n",
       "      <th>31_003_scaffold_0_1</th>\n",
       "      <th>K12972</th>\n",
       "      <td>{R00465, R01392, R02527, R01388}</td>\n",
       "    </tr>\n",
       "    <tr>\n",
       "      <th rowspan=\"2\" valign=\"top\">31_003_scaffold_0_103</th>\n",
       "      <th>K01424</th>\n",
       "      <td>{R00485, R06134}</td>\n",
       "    </tr>\n",
       "    <tr>\n",
       "      <th>K05597</th>\n",
       "      <td>{R00256, R06134, R01579, R00485}</td>\n",
       "    </tr>\n",
       "    <tr>\n",
       "      <th rowspan=\"2\" valign=\"top\">31_003_scaffold_0_104</th>\n",
       "      <th>K02517</th>\n",
       "      <td>{R12193, R05146}</td>\n",
       "    </tr>\n",
       "    <tr>\n",
       "      <th>K12974</th>\n",
       "      <td>{R10906}</td>\n",
       "    </tr>\n",
       "  </tbody>\n",
       "</table>\n",
       "</div>"
      ],
      "text/plain": [
       "                                                      REACTION\n",
       "protein               KO                                      \n",
       "31_003_scaffold_0_1   K12972  {R00465, R01392, R02527, R01388}\n",
       "31_003_scaffold_0_103 K01424                  {R00485, R06134}\n",
       "                      K05597  {R00256, R06134, R01579, R00485}\n",
       "31_003_scaffold_0_104 K02517                  {R12193, R05146}\n",
       "                      K12974                          {R10906}"
      ]
     },
     "execution_count": 82,
     "metadata": {},
     "output_type": "execute_result"
    }
   ],
   "source": [
    "edges.head()"
   ]
  },
  {
   "cell_type": "code",
   "execution_count": 83,
   "metadata": {},
   "outputs": [],
   "source": [
    "# faster to write as is than to use \n",
    "# edges = pd.DataFrame(KOs['REACTION'].apply(pd.Series, 1).stack())\n",
    "with open(protein_reaction_file_name, \"w\") as handle:\n",
    "    handle.write(\"PROTEIN\\tREACTION\\tKO\\n\")\n",
    "    for (protein, KO), row in edges.iterrows():\n",
    "        for reaction in row[\"REACTION\"]:\n",
    "            handle.write(\"%s\\t%s\\t%s\\n\"%(protein, reaction, KO))"
   ]
  },
  {
   "cell_type": "code",
   "execution_count": null,
   "metadata": {},
   "outputs": [],
   "source": []
  }
 ],
 "metadata": {
  "kernelspec": {
   "display_name": "Python 3",
   "language": "python",
   "name": "python3"
  },
  "language_info": {
   "codemirror_mode": {
    "name": "ipython",
    "version": 3
   },
   "file_extension": ".py",
   "mimetype": "text/x-python",
   "name": "python",
   "nbconvert_exporter": "python",
   "pygments_lexer": "ipython3",
   "version": "3.6.5"
  }
 },
 "nbformat": 4,
 "nbformat_minor": 2
}
