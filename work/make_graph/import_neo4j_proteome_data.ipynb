{
 "cells": [
  {
   "cell_type": "markdown",
   "metadata": {},
   "source": [
    "## Load modules"
   ]
  },
  {
   "cell_type": "code",
   "execution_count": 1,
   "metadata": {},
   "outputs": [],
   "source": [
    "from py2neo import Graph, Node, Relationship"
   ]
  },
  {
   "cell_type": "markdown",
   "metadata": {},
   "source": [
    "## Address of the graph\n",
    "See http://localhost:7474/browser/ for the neo4j interface. "
   ]
  },
  {
   "cell_type": "code",
   "execution_count": 2,
   "metadata": {},
   "outputs": [],
   "source": [
    "graph = Graph(host=\"neo4j\")"
   ]
  },
  {
   "cell_type": "markdown",
   "metadata": {},
   "source": [
    "To load the graph from scratch, first run `import_neo4j_kegg_backbone.ipynb`."
   ]
  },
  {
   "cell_type": "markdown",
   "metadata": {},
   "source": [
    "## Babies"
   ]
  },
  {
   "cell_type": "code",
   "execution_count": 3,
   "metadata": {},
   "outputs": [
    {
     "name": "stdout",
     "output_type": "stream",
     "text": [
      "ID\tNEC\tNEC_DIAGNOSIS_DOL\tBIRTH_AGE\tFEEDING\tDELIVERY\tBIRTH_WEIGHT\tINFECTION\tINFECTION_DIAGNOSIS_DOL\tSEX\tANTIBIOTIC_TREATMENT\r\n",
      "3\tNo\t\t26\tBreast\tC-section\t822\tNo\t\tF\t\r\n",
      "19\tNo\t\t24\tCombination\tC-section\t731\tYes\t23-35//23-36//23-37//23-38//23-39//23-40//23-41//23-42//23-43//23-44//23-45//23-46//23-47//23-48//23-49//23-50//23-51//23-52//23-53//23-54//23-55//23-56\tF\t\r\n"
     ]
    }
   ],
   "source": [
    "!head -n3 /home/jovyan/data/import/baby_entities.tsv"
   ]
  },
  {
   "cell_type": "code",
   "execution_count": 4,
   "metadata": {},
   "outputs": [
    {
     "data": {
      "text/plain": [
       "<py2neo.graph.Cursor at 0x7f51a0329470>"
      ]
     },
     "execution_count": 4,
     "metadata": {},
     "output_type": "execute_result"
    }
   ],
   "source": [
    "query1 = '''USING PERIODIC COMMIT 10000\n",
    "           LOAD CSV WITH HEADERS FROM  'file:///baby_entities.tsv' AS line FIELDTERMINATOR '\\t'\n",
    "           CREATE (p:BABY { id:line.ID, \n",
    "                            NAME:line.ID, \n",
    "                            NEC:line.NEC, \n",
    "                            NEC_DIAGNOSIS_DOL:line.NEC_DIAGNOSIS_DOL, \n",
    "                            BIRTH_AGE:line.BIRTH_AGE, \n",
    "                            FEEDING:line.FEEDING, \n",
    "                            DELIVERY:line.DELIVERY, \n",
    "                            BIRTH_WEIGHT:line.BIRTH_WEIGHT, \n",
    "                            INFECTION:line.INFECTION, \n",
    "                            INFECTION_DIAGNOSIS_DOL:split(line.INFECTION_DIAGNOSIS_DOL, \"//\"), \n",
    "                            SEX:line.SEX, \n",
    "                            ANTIBIOTIC_TREATMENT:split(line.ANTIBIOTIC_TREATMENT, \"//\")})'''\n",
    "graph.run(query1)"
   ]
  },
  {
   "cell_type": "code",
   "execution_count": 5,
   "metadata": {},
   "outputs": [
    {
     "data": {
      "text/plain": [
       "<py2neo.graph.Cursor at 0x7f51a0329c88>"
      ]
     },
     "execution_count": 5,
     "metadata": {},
     "output_type": "execute_result"
    }
   ],
   "source": [
    "query2 = '''CREATE CONSTRAINT ON (baby:BABY) ASSERT baby.id IS UNIQUE'''\n",
    "graph.run(query2)"
   ]
  },
  {
   "cell_type": "markdown",
   "metadata": {},
   "source": [
    "## Samples"
   ]
  },
  {
   "cell_type": "code",
   "execution_count": 6,
   "metadata": {},
   "outputs": [
    {
     "name": "stdout",
     "output_type": "stream",
     "text": [
      "ID\tDAY\tGESTATION_WEEK\tBABY\tNUM_REPS\r\n",
      "S_19.12.1\t12\t25\t19\t2\r\n",
      "S_19.16.1\t16\t26\t19\t2\r\n"
     ]
    }
   ],
   "source": [
    "!head -n3 /home/jovyan/data/import/sample_entities.tsv"
   ]
  },
  {
   "cell_type": "code",
   "execution_count": 7,
   "metadata": {},
   "outputs": [
    {
     "data": {
      "text/plain": [
       "<py2neo.graph.Cursor at 0x7f51a034a0f0>"
      ]
     },
     "execution_count": 7,
     "metadata": {},
     "output_type": "execute_result"
    }
   ],
   "source": [
    "query3 = '''USING PERIODIC COMMIT 10000\n",
    "           LOAD CSV WITH HEADERS FROM  'file:///sample_entities.tsv' AS line FIELDTERMINATOR '\\t'\n",
    "           CREATE (p:SAMPLE { id:line.ID, \n",
    "                              NAME:line.ID, \n",
    "                              BABY:line.BABY, \n",
    "                              DAY:line.DAY, \n",
    "                              GESTATION_WEEK:line.GESTATION_WEEK, \n",
    "                              NUM_REPS:line.NUM_REPS})'''\n",
    "graph.run(query3)"
   ]
  },
  {
   "cell_type": "code",
   "execution_count": 8,
   "metadata": {},
   "outputs": [
    {
     "data": {
      "text/plain": [
       "<py2neo.graph.Cursor at 0x7f51a034a320>"
      ]
     },
     "execution_count": 8,
     "metadata": {},
     "output_type": "execute_result"
    }
   ],
   "source": [
    "query4 = '''CREATE CONSTRAINT ON (sample:SAMPLE) ASSERT sample.id IS UNIQUE'''\n",
    "graph.run(query4)"
   ]
  },
  {
   "cell_type": "markdown",
   "metadata": {},
   "source": [
    "### Link samples to babies"
   ]
  },
  {
   "cell_type": "code",
   "execution_count": 9,
   "metadata": {},
   "outputs": [
    {
     "name": "stdout",
     "output_type": "stream",
     "text": [
      "ID\tBABY\r\n",
      "S_19.12.1\t19\r\n",
      "S_19.16.1\t19\r\n"
     ]
    }
   ],
   "source": [
    "!head -n3 /home/jovyan/data/import/baby_sample_relationship.tsv"
   ]
  },
  {
   "cell_type": "code",
   "execution_count": 10,
   "metadata": {},
   "outputs": [
    {
     "data": {
      "text/plain": [
       "<py2neo.graph.Cursor at 0x7f51a034a5f8>"
      ]
     },
     "execution_count": 10,
     "metadata": {},
     "output_type": "execute_result"
    }
   ],
   "source": [
    "query6 = '''USING PERIODIC COMMIT 500\n",
    "            LOAD CSV WITH HEADERS FROM 'file:///baby_sample_relationship.tsv' AS line FIELDTERMINATOR '\\t'\n",
    "            MATCH (baby:BABY {id:line.BABY}), (sample:SAMPLE {id:line.ID})\n",
    "            CREATE (baby)-[:SAMPLELINK]->(sample)'''\n",
    "graph.run(query6)"
   ]
  },
  {
   "cell_type": "markdown",
   "metadata": {},
   "source": [
    "## Proteins"
   ]
  },
  {
   "cell_type": "code",
   "execution_count": 11,
   "metadata": {},
   "outputs": [
    {
     "name": "stdout",
     "output_type": "stream",
     "text": [
      "ID\tCLUSTER\tSPECIES\tGENUS\tKO\tTAXA\r\n",
      "b003-d078_scaffold_1413_2\tCluster516100\t\"nan\"\t\tK18568\tbacteria\r\n",
      "70_007_scaffold_158_24\tCluster51958\t\"Enterococcus faecalis 2\"\tEnterococcus\tK02470,K02622\tbacteria\r\n"
     ]
    }
   ],
   "source": [
    "!head -n3 /home/jovyan/data/import/protein_entities.tsv"
   ]
  },
  {
   "cell_type": "code",
   "execution_count": 12,
   "metadata": {},
   "outputs": [
    {
     "data": {
      "text/plain": [
       "<py2neo.graph.Cursor at 0x7f51a034a908>"
      ]
     },
     "execution_count": 12,
     "metadata": {},
     "output_type": "execute_result"
    }
   ],
   "source": [
    "query7 = '''USING PERIODIC COMMIT 10000\n",
    "           LOAD CSV WITH HEADERS FROM  'file:///protein_entities.tsv' AS line FIELDTERMINATOR '\\t'\n",
    "           CREATE (p:PROTEIN { id:line.ID, \n",
    "                               NAME:line.ID,\n",
    "                               CLUSTER:line.CLUSTER, \n",
    "                               SPECIES:line.SPECIES, \n",
    "                               GENUS:line.GENUS,\n",
    "                               KO:split(line.KO, \",\"),\n",
    "                               TAXA:line.TAXA})'''\n",
    "graph.run(query7)"
   ]
  },
  {
   "cell_type": "code",
   "execution_count": 13,
   "metadata": {},
   "outputs": [
    {
     "data": {
      "text/plain": [
       "<py2neo.graph.Cursor at 0x7f51a034ac18>"
      ]
     },
     "execution_count": 13,
     "metadata": {},
     "output_type": "execute_result"
    }
   ],
   "source": [
    "query8 = '''CREATE CONSTRAINT ON (protein:PROTEIN) ASSERT protein.id IS UNIQUE'''\n",
    "graph.run(query8)"
   ]
  },
  {
   "cell_type": "markdown",
   "metadata": {},
   "source": [
    "### Link proteins to samples"
   ]
  },
  {
   "cell_type": "code",
   "execution_count": 14,
   "metadata": {},
   "outputs": [
    {
     "name": "stdout",
     "output_type": "stream",
     "text": [
      "SAMPLE\tPROTEIN\tQ_VALUE\tNSAF\r\n",
      "S_19.12.1\tb019-d010_scaffold_0_100\t0.0205924\t8.8573779e-06\r\n",
      "S_19.12.1\tb019-d010_scaffold_0_104\t0.015774700000000003\t6.9799951e-06\r\n",
      "S_19.12.1\tb019-d010_scaffold_0_105\t0.0278418\t4.3565605999999985e-06\r\n",
      "S_19.12.1\tb019-d010_scaffold_0_106\t0.021569\t2.2143445e-06\r\n",
      "S_19.12.1\tb019-d010_scaffold_0_108\t0.0219222\t8.684831300000003e-06\r\n",
      "S_19.12.1\tb019-d010_scaffold_0_110\t0.0156336\t9.3203071e-06\r\n",
      "S_19.12.1\tb019-d010_scaffold_0_111\t0.020296400000000003\t1.4634183999999999e-05\r\n",
      "S_19.12.1\tb019-d010_scaffold_0_113\t0.0127018\t1.56794825e-05\r\n",
      "S_19.12.1\tb019-d010_scaffold_0_115\t0.023001\t3.9670981e-06\r\n"
     ]
    }
   ],
   "source": [
    "!head /home/jovyan/data/import/protein_aggregated_sample_relationship.tsv"
   ]
  },
  {
   "cell_type": "code",
   "execution_count": 15,
   "metadata": {},
   "outputs": [
    {
     "data": {
      "text/plain": [
       "<py2neo.graph.Cursor at 0x7f51a034af60>"
      ]
     },
     "execution_count": 15,
     "metadata": {},
     "output_type": "execute_result"
    }
   ],
   "source": [
    "query9 = '''USING PERIODIC COMMIT 500\n",
    "            LOAD CSV WITH HEADERS FROM 'file:///protein_aggregated_sample_relationship.tsv' AS line FIELDTERMINATOR '\\t'\n",
    "            MATCH (sample:SAMPLE {id:line.SAMPLE}), (protein:PROTEIN {id:line.PROTEIN})\n",
    "            CREATE (sample)-[:PROTEINLINK  {Q_VALUE:line.Q_VALUE, NSAF:line.NSAF}]->(protein)'''\n",
    "graph.run(query9)"
   ]
  },
  {
   "cell_type": "markdown",
   "metadata": {},
   "source": [
    "### Link proteins to reactions"
   ]
  },
  {
   "cell_type": "code",
   "execution_count": 16,
   "metadata": {},
   "outputs": [
    {
     "name": "stdout",
     "output_type": "stream",
     "text": [
      "PROTEIN\tREACTION\tKO\r\n",
      "31_003_scaffold_0_1\tR00465\tK12972\r\n",
      "31_003_scaffold_0_1\tR01392\tK12972\r\n",
      "31_003_scaffold_0_1\tR02527\tK12972\r\n",
      "31_003_scaffold_0_1\tR01388\tK12972\r\n",
      "31_003_scaffold_0_103\tR00485\tK01424\r\n",
      "31_003_scaffold_0_103\tR06134\tK01424\r\n",
      "31_003_scaffold_0_103\tR00256\tK05597\r\n",
      "31_003_scaffold_0_103\tR06134\tK05597\r\n",
      "31_003_scaffold_0_103\tR01579\tK05597\r\n"
     ]
    }
   ],
   "source": [
    "!head /home/jovyan/data/import/protein_reaction_relationship.tsv"
   ]
  },
  {
   "cell_type": "code",
   "execution_count": 17,
   "metadata": {},
   "outputs": [
    {
     "data": {
      "text/plain": [
       "<py2neo.graph.Cursor at 0x7f51a0352390>"
      ]
     },
     "execution_count": 17,
     "metadata": {},
     "output_type": "execute_result"
    }
   ],
   "source": [
    "query10 = '''USING PERIODIC COMMIT 500\n",
    "            LOAD CSV WITH HEADERS FROM 'file:///protein_reaction_relationship.tsv' AS line FIELDTERMINATOR '\\t'\n",
    "            MATCH (protein:PROTEIN {id:line.PROTEIN}), (reaction:REACTION {id:line.REACTION})\n",
    "            CREATE (protein)-[:FUNCTIONLINK  {KO:line.KO}]->(reaction)'''\n",
    "graph.run(query10)"
   ]
  },
  {
   "cell_type": "code",
   "execution_count": null,
   "metadata": {},
   "outputs": [],
   "source": []
  },
  {
   "cell_type": "code",
   "execution_count": null,
   "metadata": {},
   "outputs": [],
   "source": []
  },
  {
   "cell_type": "code",
   "execution_count": null,
   "metadata": {},
   "outputs": [],
   "source": []
  }
 ],
 "metadata": {
  "kernelspec": {
   "display_name": "Python 3",
   "language": "python",
   "name": "python3"
  },
  "language_info": {
   "codemirror_mode": {
    "name": "ipython",
    "version": 3
   },
   "file_extension": ".py",
   "mimetype": "text/x-python",
   "name": "python",
   "nbconvert_exporter": "python",
   "pygments_lexer": "ipython3",
   "version": "3.6.5"
  }
 },
 "nbformat": 4,
 "nbformat_minor": 2
}
